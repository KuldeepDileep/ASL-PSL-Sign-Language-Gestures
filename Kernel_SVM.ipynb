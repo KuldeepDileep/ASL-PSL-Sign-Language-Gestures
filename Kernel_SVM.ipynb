{
  "nbformat": 4,
  "nbformat_minor": 0,
  "metadata": {
    "colab": {
      "name": "Kernel_SVM.ipynb",
      "provenance": [],
      "collapsed_sections": []
    },
    "kernelspec": {
      "name": "python3",
      "display_name": "Python 3"
    }
  },
  "cells": [
    {
      "cell_type": "code",
      "metadata": {
        "id": "dIM7TZBaltj7",
        "colab_type": "code",
        "colab": {}
      },
      "source": [
        "import numpy as np\n",
        "import matplotlib.pyplot as plt\n",
        "import os\n",
        "import cv2\n",
        "import random\n",
        "import numpy as np\n",
        "import keras\n",
        "from keras.models import Sequential, Model\n",
        "from keras.layers import Flatten, Dense, Concatenate, Dot, Lambda, Input\n",
        "from keras.datasets import mnist\n",
        "from keras.optimizers import Adam\n",
        "import matplotlib.pyplot as plt\n",
        "import os\n",
        "from PIL import Image\n",
        "import numpy as np\n",
        "from sklearn.model_selection import train_test_split\n",
        "from sklearn import svm\n",
        "from sklearn.metrics import accuracy_score\n",
        "import pickle\n",
        "from sklearn import svm\n",
        "from keras.datasets import cifar10\n",
        "import numpy as np\n",
        "import matplotlib.pyplot as plt\n",
        "from keras.utils import to_categorical\n",
        "import keras\n",
        "from keras.models import Sequential,Input,Model\n",
        "from keras.layers import Dense, Dropout, Flatten\n",
        "from keras.layers import Conv2D, MaxPooling2D\n",
        "from keras.layers.normalization import BatchNormalization\n",
        "from keras.layers.advanced_activations import LeakyReLU\n",
        "from google.colab.patches import cv2_imshow"
      ],
      "execution_count": 27,
      "outputs": []
    },
    {
      "cell_type": "code",
      "metadata": {
        "id": "fXZD6_E0l2rm",
        "colab_type": "code",
        "colab": {
          "base_uri": "https://localhost:8080/",
          "height": 35
        },
        "outputId": "312c5e1d-3dbe-4a5f-a744-f457812b8e4b"
      },
      "source": [
        "!pwd\n",
        "#!rm -rf Gestures"
      ],
      "execution_count": 28,
      "outputs": [
        {
          "output_type": "stream",
          "text": [
            "/content\n"
          ],
          "name": "stdout"
        }
      ]
    },
    {
      "cell_type": "code",
      "metadata": {
        "id": "WCC4ANyNl63d",
        "colab_type": "code",
        "colab": {
          "base_uri": "https://localhost:8080/",
          "height": 35
        },
        "outputId": "f5e6416a-da28-49e3-b62d-1cadd65545f2"
      },
      "source": [
        "!git clone https://github.com/KuldeepDileep/Gestures.git"
      ],
      "execution_count": 29,
      "outputs": [
        {
          "output_type": "stream",
          "text": [
            "fatal: destination path 'Gestures' already exists and is not an empty directory.\n"
          ],
          "name": "stdout"
        }
      ]
    },
    {
      "cell_type": "code",
      "metadata": {
        "id": "0OqDPvccmB1q",
        "colab_type": "code",
        "colab": {}
      },
      "source": [
        "import zipfile\n",
        "with zipfile.ZipFile('/content/Gestures/Gestures-Images.zip', 'r') as zip_ref:\n",
        "    zip_ref.extractall('/content/Gestures')"
      ],
      "execution_count": 30,
      "outputs": []
    },
    {
      "cell_type": "code",
      "metadata": {
        "id": "SutfmfiHmGWM",
        "colab_type": "code",
        "colab": {
          "base_uri": "https://localhost:8080/",
          "height": 90
        },
        "outputId": "91fad149-0ab0-47d7-e2af-ce8d61693c3f"
      },
      "source": [
        "TrainDir = '/content/Gestures/Gestures-Images/ASL_Images'\n",
        "\n",
        "count=0\n",
        "current_id = 0\n",
        "label_ids = {}\n",
        "x_train = []\n",
        "y_labels= []\n",
        "\n",
        "image_train = []\n",
        "label_train =[]\n",
        "\n",
        "\n",
        "#---------------------------------------Extracting Train Images-----------------------------------------\n",
        "for root, dirs, files in os.walk(TrainDir):\n",
        "    for file in files:\n",
        "        if file.endswith(\"png\") or  file.endswith(\"jpeg\") or file.endswith(\"jpg\"):\n",
        "            count+=1\n",
        "            path = os.path.join(root, file)\n",
        "            label = os.path.basename(os.path.dirname(path)).replace(\" \",\",\").lower()\n",
        "            label = os.path.basename(root).replace(\" \",\",\").lower()\n",
        "            if not label in label_ids: #if the current label is not in dictionsry we save it with the corresponding current_id i.e 0,1,2\n",
        "                label_ids[label] = current_id\n",
        "                current_id +=1\n",
        "            id_ = label_ids[label]\n",
        "            label_train.append(id_)\n",
        "\n",
        "            \n",
        "            pil_image =  Image.open(path) #Opening the image using Image object and converting it into Gray\n",
        "            #pil_image = pil_image.resize((224,224))\n",
        "            #pil_image = pil_image.convert(\"RGB\")\n",
        "            image_array =  np.array(pil_image, \"uint8\") #converting the image into a numpy array\n",
        "            image_train.append(image_array)\n",
        "            #print(image_array)\n",
        "print(\"----------------------------Label_ids----------------------------------\")\n",
        "print(label_ids)\n",
        "print(label_ids)\n",
        "print(count)"
      ],
      "execution_count": 31,
      "outputs": [
        {
          "output_type": "stream",
          "text": [
            "----------------------------Label_ids----------------------------------\n",
            "{'name': 0, 'my': 1, 'hello': 2}\n",
            "{'name': 0, 'my': 1, 'hello': 2}\n",
            "600\n"
          ],
          "name": "stdout"
        }
      ]
    },
    {
      "cell_type": "code",
      "metadata": {
        "id": "RerlKCTvmjjv",
        "colab_type": "code",
        "colab": {
          "base_uri": "https://localhost:8080/",
          "height": 54
        },
        "outputId": "6c245287-d53c-4ecb-d202-687cf2f9f18d"
      },
      "source": [
        "image_train = np.asarray(image_train)\n",
        "label_train = np.asarray(label_train)\n",
        "x_train = image_train\n",
        "y_train = label_train\n",
        "print(y_train.shape)\n",
        "print(x_train.shape)"
      ],
      "execution_count": 32,
      "outputs": [
        {
          "output_type": "stream",
          "text": [
            "(600,)\n",
            "(600, 215, 240)\n"
          ],
          "name": "stdout"
        }
      ]
    },
    {
      "cell_type": "markdown",
      "metadata": {
        "id": "CtE5lKDSns-8",
        "colab_type": "text"
      },
      "source": [
        "Spliting data:"
      ]
    },
    {
      "cell_type": "code",
      "metadata": {
        "id": "0H_HRgsvmuz-",
        "colab_type": "code",
        "colab": {
          "base_uri": "https://localhost:8080/",
          "height": 54
        },
        "outputId": "a9d2e0e9-75a9-44d0-bfa0-e97be58c2175"
      },
      "source": [
        "#-----------------------------------------------Test and Train Spli--------------------------------------\n",
        "x_train,x_test,y_train,y_test=train_test_split(x_train,y_train,test_size=0.2)\n",
        "print(x_train.shape)\n",
        "print(x_test.shape)"
      ],
      "execution_count": 33,
      "outputs": [
        {
          "output_type": "stream",
          "text": [
            "(480, 215, 240)\n",
            "(120, 215, 240)\n"
          ],
          "name": "stdout"
        }
      ]
    },
    {
      "cell_type": "markdown",
      "metadata": {
        "id": "kk7GgGNPn3dA",
        "colab_type": "text"
      },
      "source": [
        "Data Normalization:"
      ]
    },
    {
      "cell_type": "code",
      "metadata": {
        "id": "OaG_qRnRn3Il",
        "colab_type": "code",
        "colab": {}
      },
      "source": [
        "x_train = x_train/np.max(x_train)\n",
        "x_test = x_test/np.max(x_test)"
      ],
      "execution_count": 34,
      "outputs": []
    },
    {
      "cell_type": "code",
      "metadata": {
        "id": "bCiY9iR5qcUN",
        "colab_type": "code",
        "colab": {
          "base_uri": "https://localhost:8080/",
          "height": 90
        },
        "outputId": "eae4c5ef-6b03-470e-d570-d809b1adc623"
      },
      "source": [
        "print(x_train.shape)\n",
        "print(y_train.shape)\n",
        "print(x_test.shape)\n",
        "print(y_test.shape)"
      ],
      "execution_count": 35,
      "outputs": [
        {
          "output_type": "stream",
          "text": [
            "(480, 215, 240)\n",
            "(480,)\n",
            "(120, 215, 240)\n",
            "(120,)\n"
          ],
          "name": "stdout"
        }
      ]
    },
    {
      "cell_type": "markdown",
      "metadata": {
        "id": "4AjGFmGvoTn9",
        "colab_type": "text"
      },
      "source": [
        "RBF Kernel SVM:"
      ]
    },
    {
      "cell_type": "code",
      "metadata": {
        "id": "bKptpBA6oTC6",
        "colab_type": "code",
        "colab": {
          "base_uri": "https://localhost:8080/",
          "height": 35
        },
        "outputId": "8ab44bfa-ff94-4497-c3bd-c4edb3aecb68"
      },
      "source": [
        "x_train = x_train.reshape((x_train.shape[0], 215*240))\n",
        "x_test = x_test.reshape((x_test.shape[0], 215*240))\n",
        "rbf_svc = svm.SVC(kernel='rbf', C=2000, gamma=.009)\n",
        "rbf_svc.fit(x_train, y_train)\n",
        "rbf_acc = rbf_svc.predict(x_test)\n",
        "print(\"Accuracy: \"+str(accuracy_score(y_test, rbf_acc)))"
      ],
      "execution_count": 36,
      "outputs": [
        {
          "output_type": "stream",
          "text": [
            "Accuracy: 0.9833333333333333\n"
          ],
          "name": "stdout"
        }
      ]
    },
    {
      "cell_type": "code",
      "metadata": {
        "id": "Vq0QriznogYo",
        "colab_type": "code",
        "colab": {
          "base_uri": "https://localhost:8080/",
          "height": 35
        },
        "outputId": "81057a63-44a5-4833-d653-0c9bb06d0bed"
      },
      "source": [
        "filename = 'kernelsvm_model.sav'\n",
        "pickle.dump(rbf_svc, open(filename, 'wb'))\n",
        "print(\"Saved model to disk\")"
      ],
      "execution_count": 37,
      "outputs": [
        {
          "output_type": "stream",
          "text": [
            "Saved model to disk\n"
          ],
          "name": "stdout"
        }
      ]
    },
    {
      "cell_type": "code",
      "metadata": {
        "id": "rbrd-a4Fohh5",
        "colab_type": "code",
        "colab": {
          "base_uri": "https://localhost:8080/",
          "height": 35
        },
        "outputId": "ee7a34bf-08e6-4bb9-b122-9c61c9edec8a"
      },
      "source": [
        "loaded_model = pickle.load(open(filename, 'rb'))\n",
        "result = loaded_model.score(x_test, y_test)\n",
        "print(\"Testing accuracy: \", result)"
      ],
      "execution_count": 38,
      "outputs": [
        {
          "output_type": "stream",
          "text": [
            "Testing accuracy:  0.9833333333333333\n"
          ],
          "name": "stdout"
        }
      ]
    }
  ]
}