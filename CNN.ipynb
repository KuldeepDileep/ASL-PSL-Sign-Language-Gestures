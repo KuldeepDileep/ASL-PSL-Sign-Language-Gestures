{
  "nbformat": 4,
  "nbformat_minor": 0,
  "metadata": {
    "colab": {
      "name": "CNN.ipynb",
      "provenance": [],
      "collapsed_sections": []
    },
    "kernelspec": {
      "name": "python3",
      "display_name": "Python 3"
    },
    "accelerator": "GPU"
  },
  "cells": [
    {
      "cell_type": "code",
      "metadata": {
        "id": "dIM7TZBaltj7",
        "colab_type": "code",
        "colab": {}
      },
      "source": [
        "import numpy as np\n",
        "import matplotlib.pyplot as plt\n",
        "import os\n",
        "import cv2\n",
        "import random\n",
        "import numpy as np\n",
        "import keras\n",
        "from keras.models import Sequential, Model\n",
        "from keras.layers import Flatten, Dense, Concatenate, Dot, Lambda, Input\n",
        "from keras.datasets import mnist\n",
        "from keras.optimizers import Adam\n",
        "import matplotlib.pyplot as plt\n",
        "import os\n",
        "from PIL import Image\n",
        "import numpy as np\n",
        "from sklearn.model_selection import train_test_split\n",
        "from sklearn import svm\n",
        "from sklearn.metrics import accuracy_score\n",
        "import pickle\n",
        "from sklearn import svm\n",
        "from keras.datasets import cifar10\n",
        "import numpy as np\n",
        "import matplotlib.pyplot as plt\n",
        "from keras.utils import to_categorical\n",
        "import keras\n",
        "from keras.models import Sequential,Input,Model\n",
        "from keras.layers import Dense, Dropout, Flatten\n",
        "from keras.layers import Conv2D, MaxPooling2D\n",
        "from keras.layers.normalization import BatchNormalization\n",
        "from keras.layers.advanced_activations import LeakyReLU\n",
        "from google.colab.patches import cv2_imshow"
      ],
      "execution_count": 23,
      "outputs": []
    },
    {
      "cell_type": "code",
      "metadata": {
        "id": "fXZD6_E0l2rm",
        "colab_type": "code",
        "colab": {
          "base_uri": "https://localhost:8080/",
          "height": 35
        },
        "outputId": "91311d01-34a3-45cf-f35d-9494e0adf617"
      },
      "source": [
        "!pwd\n",
        "!rm -rf ASL-PSL-Sign-Language-Gestures\n",
        "!rm -rf Gestures"
      ],
      "execution_count": 24,
      "outputs": [
        {
          "output_type": "stream",
          "text": [
            "/content\n"
          ],
          "name": "stdout"
        }
      ]
    },
    {
      "cell_type": "code",
      "metadata": {
        "id": "WCC4ANyNl63d",
        "colab_type": "code",
        "colab": {
          "base_uri": "https://localhost:8080/",
          "height": 127
        },
        "outputId": "68157562-8d0c-4753-da2d-280405cbb7d1"
      },
      "source": [
        "!git clone https://github.com/KuldeepDileep/ASL-PSL-Sign-Language-Gestures.git\n",
        "!rm -rf ASL Gestures\n",
        "!rm -rf PSL Gestures\n",
        "!mkdir -p Gestures"
      ],
      "execution_count": 25,
      "outputs": [
        {
          "output_type": "stream",
          "text": [
            "Cloning into 'ASL-PSL-Sign-Language-Gestures'...\n",
            "remote: Enumerating objects: 405, done.\u001b[K\n",
            "remote: Total 405 (delta 0), reused 0 (delta 0), pack-reused 405\u001b[K\n",
            "Receiving objects: 100% (405/405), 717.55 MiB | 44.89 MiB/s, done.\n",
            "Resolving deltas: 100% (90/90), done.\n",
            "Checking out files: 100% (61/61), done.\n"
          ],
          "name": "stdout"
        }
      ]
    },
    {
      "cell_type": "code",
      "metadata": {
        "id": "0OqDPvccmB1q",
        "colab_type": "code",
        "colab": {}
      },
      "source": [
        "import zipfile\n",
        "with zipfile.ZipFile('/content/ASL-PSL-Sign-Language-Gestures/m.zip', 'r') as zip_ref:\n",
        "    zip_ref.extractall('/content/Gestures')\n",
        "with zipfile.ZipFile('/content/ASL-PSL-Sign-Language-Gestures/d.zip', 'r') as zip_ref:\n",
        "    zip_ref.extractall('/content/Gestures')\n",
        "with zipfile.ZipFile('/content/ASL-PSL-Sign-Language-Gestures/u.zip', 'r') as zip_ref:\n",
        "    zip_ref.extractall('/content/Gestures')"
      ],
      "execution_count": 26,
      "outputs": []
    },
    {
      "cell_type": "code",
      "metadata": {
        "id": "SutfmfiHmGWM",
        "colab_type": "code",
        "colab": {
          "base_uri": "https://localhost:8080/",
          "height": 90
        },
        "outputId": "29889be6-3146-482c-ea25-75bb97c8113a"
      },
      "source": [
        "TrainDir = '/content/Gestures'\n",
        "\n",
        "count=0\n",
        "current_id = 0\n",
        "label_ids = {}\n",
        "x_train = []\n",
        "y_labels= []\n",
        "\n",
        "image_train = []\n",
        "label_train =[]\n",
        "\n",
        "\n",
        "#---------------------------------------Extracting Train Images-----------------------------------------\n",
        "for root, dirs, files in os.walk(TrainDir):\n",
        "    for file in files:\n",
        "        if file.endswith(\"png\") or  file.endswith(\"jpeg\") or file.endswith(\"jpg\"):\n",
        "            count+=1\n",
        "            path = os.path.join(root, file)\n",
        "            label = os.path.basename(os.path.dirname(path)).replace(\" \",\",\").lower()\n",
        "            label = os.path.basename(root).replace(\" \",\",\").lower()\n",
        "            if not label in label_ids: #if the current label is not in dictionsry we save it with the corresponding current_id i.e 0,1,2\n",
        "                label_ids[label] = current_id\n",
        "                current_id +=1\n",
        "            id_ = label_ids[label]\n",
        "            label_train.append(id_)\n",
        "\n",
        "            \n",
        "            image_array = plt.imread(path)\n",
        "            image_array = cv2.resize(image_array, (224,224), interpolation=cv2.INTER_LINEAR)\n",
        "            #image_array = cv2.cvtColor(image_array,cv2.COLOR_GRAY2RGB)\n",
        "            image_array = np.array(image_array, dtype='float16')\n",
        "            image_train.append(image_array)\n",
        "            #print(image_array)\n",
        "print(\"----------------------------Label_ids----------------------------------\")\n",
        "print(label_ids)\n",
        "print(label_ids)\n",
        "print(count)"
      ],
      "execution_count": 27,
      "outputs": [
        {
          "output_type": "stream",
          "text": [
            "----------------------------Label_ids----------------------------------\n",
            "{'h': 0, 'b': 1, 'm': 2, 'd': 3, 'p': 4, 'i': 5, 'n': 6, 'v': 7, 'c': 8, 'a': 9, 'g': 10, 'e': 11, 'u': 12, 'k': 13}\n",
            "{'h': 0, 'b': 1, 'm': 2, 'd': 3, 'p': 4, 'i': 5, 'n': 6, 'v': 7, 'c': 8, 'a': 9, 'g': 10, 'e': 11, 'u': 12, 'k': 13}\n",
            "4200\n"
          ],
          "name": "stdout"
        }
      ]
    },
    {
      "cell_type": "code",
      "metadata": {
        "id": "RerlKCTvmjjv",
        "colab_type": "code",
        "colab": {
          "base_uri": "https://localhost:8080/",
          "height": 72
        },
        "outputId": "f80dd7ea-2e5d-41de-cd7b-f70ff0e2dd32"
      },
      "source": [
        "image_train = np.asarray(image_train)\n",
        "label_train = np.asarray(label_train)\n",
        "x_train = image_train\n",
        "y_train = label_train\n",
        "print(image_train[0].shape)\n",
        "print(y_train.shape)\n",
        "print(x_train.shape)"
      ],
      "execution_count": 28,
      "outputs": [
        {
          "output_type": "stream",
          "text": [
            "(224, 224)\n",
            "(4200,)\n",
            "(4200, 224, 224)\n"
          ],
          "name": "stdout"
        }
      ]
    },
    {
      "cell_type": "markdown",
      "metadata": {
        "id": "CtE5lKDSns-8",
        "colab_type": "text"
      },
      "source": [
        "Spliting data:"
      ]
    },
    {
      "cell_type": "code",
      "metadata": {
        "id": "0H_HRgsvmuz-",
        "colab_type": "code",
        "colab": {
          "base_uri": "https://localhost:8080/",
          "height": 54
        },
        "outputId": "39c56e66-5b96-4c23-bb1e-fa99990ddc02"
      },
      "source": [
        "#-----------------------------------------------Test and Train Spli--------------------------------------\n",
        "x_train,x_test,y_train,y_test=train_test_split(x_train,y_train,test_size=0.2)\n",
        "print(x_train.shape)\n",
        "print(x_test.shape)"
      ],
      "execution_count": 29,
      "outputs": [
        {
          "output_type": "stream",
          "text": [
            "(3360, 224, 224)\n",
            "(840, 224, 224)\n"
          ],
          "name": "stdout"
        }
      ]
    },
    {
      "cell_type": "markdown",
      "metadata": {
        "id": "kk7GgGNPn3dA",
        "colab_type": "text"
      },
      "source": [
        "Data Normalization:"
      ]
    },
    {
      "cell_type": "code",
      "metadata": {
        "id": "OaG_qRnRn3Il",
        "colab_type": "code",
        "colab": {}
      },
      "source": [
        "x_train = x_train/np.max(x_train)\n",
        "x_test = x_test/np.max(x_test)"
      ],
      "execution_count": 30,
      "outputs": []
    },
    {
      "cell_type": "markdown",
      "metadata": {
        "id": "nqeSzncLqSJJ",
        "colab_type": "text"
      },
      "source": [
        "One-Hot Encoding:"
      ]
    },
    {
      "cell_type": "code",
      "metadata": {
        "id": "gGlx_cZeqRXt",
        "colab_type": "code",
        "colab": {}
      },
      "source": [
        "y_train = to_categorical(y_train)\n",
        "y_test = to_categorical(y_test)"
      ],
      "execution_count": 31,
      "outputs": []
    },
    {
      "cell_type": "code",
      "metadata": {
        "id": "bCiY9iR5qcUN",
        "colab_type": "code",
        "colab": {
          "base_uri": "https://localhost:8080/",
          "height": 90
        },
        "outputId": "423a76d0-ad64-43cc-a5ea-0433eb271f56"
      },
      "source": [
        "print(x_train.shape)\n",
        "print(y_train.shape)\n",
        "print(x_test.shape)\n",
        "print(y_test.shape)"
      ],
      "execution_count": 32,
      "outputs": [
        {
          "output_type": "stream",
          "text": [
            "(3360, 224, 224)\n",
            "(3360, 14)\n",
            "(840, 224, 224)\n",
            "(840, 14)\n"
          ],
          "name": "stdout"
        }
      ]
    },
    {
      "cell_type": "markdown",
      "metadata": {
        "id": "9v56rWTpq8RN",
        "colab_type": "text"
      },
      "source": [
        "Convolutional Neural Network (CNN):"
      ]
    },
    {
      "cell_type": "code",
      "metadata": {
        "id": "S4ukT68zgrNM",
        "colab_type": "code",
        "colab": {}
      },
      "source": [
        "x_train = x_train.reshape((x_train.shape[0], 224, 224, 1))\n",
        "x_test = x_test.reshape((x_test.shape[0], 224, 224, 1))"
      ],
      "execution_count": 33,
      "outputs": []
    },
    {
      "cell_type": "code",
      "metadata": {
        "id": "BnGiXxOdq62_",
        "colab_type": "code",
        "colab": {
          "base_uri": "https://localhost:8080/",
          "height": 1000
        },
        "outputId": "0fa24b35-714c-4b3a-d9d1-76a3c7e1a6d4"
      },
      "source": [
        "epochs = 50\n",
        "num_classes = 14\n",
        "CNN_model = Sequential()\n",
        "#------------------------------------\n",
        "CNN_model.add(Conv2D(64, kernel_size=(3, 3),activation='relu',padding='same',input_shape=(224,224,1)))\n",
        "CNN_model.add(LeakyReLU(alpha=0.1))\n",
        "CNN_model.add(MaxPooling2D((3, 3),padding='same'))\n",
        "CNN_model.add(Dropout(0.5))\n",
        "#------------------------------------\n",
        "CNN_model.add(Conv2D(128, (3, 3), activation='relu',padding='same'))\n",
        "CNN_model.add(LeakyReLU(alpha=0.1))\n",
        "CNN_model.add(MaxPooling2D(pool_size=(2, 2),padding='same'))\n",
        "CNN_model.add(Dropout(0.5))\n",
        "\n",
        "#------------------------------------\n",
        "CNN_model.add(Conv2D(256, (3, 3), activation='relu',padding='same'))\n",
        "CNN_model.add(LeakyReLU(alpha=0.1))                  \n",
        "CNN_model.add(MaxPooling2D(pool_size=(2, 2),padding='same'))\n",
        "CNN_model.add(Dropout(0.5))\n",
        "#------------------------------------\n",
        "\n",
        "CNN_model.add(Conv2D(384, (3, 3), activation='relu',padding='same'))\n",
        "CNN_model.add(LeakyReLU(alpha=0.1))                  \n",
        "CNN_model.add(MaxPooling2D(pool_size=(2, 2),padding='same'))\n",
        "CNN_model.add(Dropout(0.5))\n",
        "\n",
        "CNN_model.add(Flatten())\n",
        "CNN_model.add(Dense(128, activation='relu'))\n",
        "CNN_model.add(LeakyReLU(alpha=0.1))\n",
        "#------------------------------------           \n",
        "CNN_model.add(Dropout(0.5))\n",
        "CNN_model.add(Dense(num_classes, activation='softmax'))\n",
        "\n",
        "CNN_model.summary()\n",
        "\n",
        "\n",
        "CNN_model.compile(loss=keras.losses.categorical_crossentropy, optimizer=keras.optimizers.Adam(),metrics=['accuracy'])\n",
        "history = CNN_model.fit(x_train, y_train,epochs=epochs,verbose=1,validation_data=(x_test, y_test))"
      ],
      "execution_count": 41,
      "outputs": [
        {
          "output_type": "stream",
          "text": [
            "Model: \"sequential_5\"\n",
            "_________________________________________________________________\n",
            "Layer (type)                 Output Shape              Param #   \n",
            "=================================================================\n",
            "conv2d_12 (Conv2D)           (None, 224, 224, 64)      640       \n",
            "_________________________________________________________________\n",
            "leaky_re_lu_16 (LeakyReLU)   (None, 224, 224, 64)      0         \n",
            "_________________________________________________________________\n",
            "max_pooling2d_12 (MaxPooling (None, 75, 75, 64)        0         \n",
            "_________________________________________________________________\n",
            "dropout_16 (Dropout)         (None, 75, 75, 64)        0         \n",
            "_________________________________________________________________\n",
            "conv2d_13 (Conv2D)           (None, 75, 75, 128)       73856     \n",
            "_________________________________________________________________\n",
            "leaky_re_lu_17 (LeakyReLU)   (None, 75, 75, 128)       0         \n",
            "_________________________________________________________________\n",
            "max_pooling2d_13 (MaxPooling (None, 38, 38, 128)       0         \n",
            "_________________________________________________________________\n",
            "dropout_17 (Dropout)         (None, 38, 38, 128)       0         \n",
            "_________________________________________________________________\n",
            "conv2d_14 (Conv2D)           (None, 38, 38, 256)       295168    \n",
            "_________________________________________________________________\n",
            "leaky_re_lu_18 (LeakyReLU)   (None, 38, 38, 256)       0         \n",
            "_________________________________________________________________\n",
            "max_pooling2d_14 (MaxPooling (None, 19, 19, 256)       0         \n",
            "_________________________________________________________________\n",
            "dropout_18 (Dropout)         (None, 19, 19, 256)       0         \n",
            "_________________________________________________________________\n",
            "conv2d_15 (Conv2D)           (None, 19, 19, 384)       885120    \n",
            "_________________________________________________________________\n",
            "leaky_re_lu_19 (LeakyReLU)   (None, 19, 19, 384)       0         \n",
            "_________________________________________________________________\n",
            "max_pooling2d_15 (MaxPooling (None, 10, 10, 384)       0         \n",
            "_________________________________________________________________\n",
            "dropout_19 (Dropout)         (None, 10, 10, 384)       0         \n",
            "_________________________________________________________________\n",
            "flatten_5 (Flatten)          (None, 38400)             0         \n",
            "_________________________________________________________________\n",
            "dense_9 (Dense)              (None, 128)               4915328   \n",
            "_________________________________________________________________\n",
            "leaky_re_lu_20 (LeakyReLU)   (None, 128)               0         \n",
            "_________________________________________________________________\n",
            "dropout_20 (Dropout)         (None, 128)               0         \n",
            "_________________________________________________________________\n",
            "dense_10 (Dense)             (None, 14)                1806      \n",
            "=================================================================\n",
            "Total params: 6,171,918\n",
            "Trainable params: 6,171,918\n",
            "Non-trainable params: 0\n",
            "_________________________________________________________________\n",
            "Train on 3360 samples, validate on 840 samples\n",
            "Epoch 1/50\n",
            "3360/3360 [==============================] - 16s 5ms/step - loss: 2.0695 - accuracy: 0.2970 - val_loss: 1.3628 - val_accuracy: 0.7012\n",
            "Epoch 2/50\n",
            "3360/3360 [==============================] - 15s 4ms/step - loss: 1.0445 - accuracy: 0.6167 - val_loss: 0.5508 - val_accuracy: 0.8345\n",
            "Epoch 3/50\n",
            "3360/3360 [==============================] - 15s 4ms/step - loss: 0.5988 - accuracy: 0.7765 - val_loss: 0.3979 - val_accuracy: 0.8798\n",
            "Epoch 4/50\n",
            "3360/3360 [==============================] - 15s 4ms/step - loss: 0.4573 - accuracy: 0.8369 - val_loss: 0.1964 - val_accuracy: 0.9286\n",
            "Epoch 5/50\n",
            "3360/3360 [==============================] - 15s 4ms/step - loss: 0.3357 - accuracy: 0.8735 - val_loss: 0.1322 - val_accuracy: 0.9595\n",
            "Epoch 6/50\n",
            "3360/3360 [==============================] - 15s 4ms/step - loss: 0.2844 - accuracy: 0.8970 - val_loss: 0.1121 - val_accuracy: 0.9833\n",
            "Epoch 7/50\n",
            "3360/3360 [==============================] - 15s 4ms/step - loss: 0.2129 - accuracy: 0.9238 - val_loss: 0.0558 - val_accuracy: 0.9845\n",
            "Epoch 8/50\n",
            "3360/3360 [==============================] - 15s 4ms/step - loss: 0.2154 - accuracy: 0.9208 - val_loss: 0.0849 - val_accuracy: 0.9952\n",
            "Epoch 9/50\n",
            "3360/3360 [==============================] - 15s 4ms/step - loss: 0.1965 - accuracy: 0.9271 - val_loss: 0.0569 - val_accuracy: 0.9905\n",
            "Epoch 10/50\n",
            "3360/3360 [==============================] - 15s 4ms/step - loss: 0.1649 - accuracy: 0.9378 - val_loss: 0.0647 - val_accuracy: 0.9833\n",
            "Epoch 11/50\n",
            "3360/3360 [==============================] - 15s 4ms/step - loss: 0.1536 - accuracy: 0.9402 - val_loss: 0.0359 - val_accuracy: 0.9952\n",
            "Epoch 12/50\n",
            "3360/3360 [==============================] - 15s 4ms/step - loss: 0.1409 - accuracy: 0.9464 - val_loss: 0.0199 - val_accuracy: 0.9964\n",
            "Epoch 13/50\n",
            "3360/3360 [==============================] - 15s 4ms/step - loss: 0.1209 - accuracy: 0.9539 - val_loss: 0.0432 - val_accuracy: 0.9845\n",
            "Epoch 14/50\n",
            "3360/3360 [==============================] - 15s 4ms/step - loss: 0.1403 - accuracy: 0.9470 - val_loss: 0.0619 - val_accuracy: 0.9821\n",
            "Epoch 15/50\n",
            "3360/3360 [==============================] - 15s 4ms/step - loss: 0.1553 - accuracy: 0.9432 - val_loss: 0.0262 - val_accuracy: 0.9917\n",
            "Epoch 16/50\n",
            "3360/3360 [==============================] - 15s 4ms/step - loss: 0.1426 - accuracy: 0.9479 - val_loss: 0.0675 - val_accuracy: 0.9845\n",
            "Epoch 17/50\n",
            "3360/3360 [==============================] - 15s 4ms/step - loss: 0.1063 - accuracy: 0.9574 - val_loss: 0.0181 - val_accuracy: 0.9952\n",
            "Epoch 18/50\n",
            "3360/3360 [==============================] - 15s 4ms/step - loss: 0.0868 - accuracy: 0.9643 - val_loss: 0.0138 - val_accuracy: 0.9988\n",
            "Epoch 19/50\n",
            "3360/3360 [==============================] - 15s 4ms/step - loss: 0.0990 - accuracy: 0.9631 - val_loss: 0.0503 - val_accuracy: 0.9857\n",
            "Epoch 20/50\n",
            "3360/3360 [==============================] - 15s 4ms/step - loss: 0.0953 - accuracy: 0.9631 - val_loss: 0.0137 - val_accuracy: 0.9976\n",
            "Epoch 21/50\n",
            "3360/3360 [==============================] - 15s 4ms/step - loss: 0.0795 - accuracy: 0.9702 - val_loss: 0.0098 - val_accuracy: 0.9988\n",
            "Epoch 22/50\n",
            "3360/3360 [==============================] - 15s 4ms/step - loss: 0.0856 - accuracy: 0.9711 - val_loss: 0.0133 - val_accuracy: 0.9964\n",
            "Epoch 23/50\n",
            "3360/3360 [==============================] - 15s 4ms/step - loss: 0.0743 - accuracy: 0.9705 - val_loss: 0.0055 - val_accuracy: 0.9976\n",
            "Epoch 24/50\n",
            "3360/3360 [==============================] - 15s 4ms/step - loss: 0.1008 - accuracy: 0.9616 - val_loss: 0.0150 - val_accuracy: 0.9952\n",
            "Epoch 25/50\n",
            "3360/3360 [==============================] - 15s 4ms/step - loss: 0.0844 - accuracy: 0.9729 - val_loss: 0.0166 - val_accuracy: 0.9964\n",
            "Epoch 26/50\n",
            "3360/3360 [==============================] - 15s 4ms/step - loss: 0.0817 - accuracy: 0.9705 - val_loss: 0.0083 - val_accuracy: 0.9976\n",
            "Epoch 27/50\n",
            "3360/3360 [==============================] - 15s 4ms/step - loss: 0.0763 - accuracy: 0.9717 - val_loss: 0.0130 - val_accuracy: 0.9964\n",
            "Epoch 28/50\n",
            "3360/3360 [==============================] - 15s 4ms/step - loss: 0.0583 - accuracy: 0.9768 - val_loss: 0.0266 - val_accuracy: 0.9952\n",
            "Epoch 29/50\n",
            "3360/3360 [==============================] - 15s 4ms/step - loss: 0.0720 - accuracy: 0.9714 - val_loss: 0.0068 - val_accuracy: 0.9976\n",
            "Epoch 30/50\n",
            "3360/3360 [==============================] - 15s 4ms/step - loss: 0.0576 - accuracy: 0.9780 - val_loss: 0.0061 - val_accuracy: 0.9988\n",
            "Epoch 31/50\n",
            "3360/3360 [==============================] - 15s 4ms/step - loss: 0.0563 - accuracy: 0.9771 - val_loss: 0.0047 - val_accuracy: 1.0000\n",
            "Epoch 32/50\n",
            "3360/3360 [==============================] - 15s 4ms/step - loss: 0.0825 - accuracy: 0.9696 - val_loss: 0.0114 - val_accuracy: 0.9976\n",
            "Epoch 33/50\n",
            "3360/3360 [==============================] - 15s 4ms/step - loss: 0.0675 - accuracy: 0.9741 - val_loss: 0.0060 - val_accuracy: 0.9976\n",
            "Epoch 34/50\n",
            "3360/3360 [==============================] - 15s 4ms/step - loss: 0.0580 - accuracy: 0.9762 - val_loss: 0.0143 - val_accuracy: 0.9964\n",
            "Epoch 35/50\n",
            "3360/3360 [==============================] - 15s 4ms/step - loss: 0.0588 - accuracy: 0.9789 - val_loss: 0.0128 - val_accuracy: 0.9964\n",
            "Epoch 36/50\n",
            "3360/3360 [==============================] - 15s 4ms/step - loss: 0.0505 - accuracy: 0.9818 - val_loss: 0.0069 - val_accuracy: 0.9988\n",
            "Epoch 37/50\n",
            "3360/3360 [==============================] - 15s 4ms/step - loss: 0.0574 - accuracy: 0.9810 - val_loss: 0.0128 - val_accuracy: 0.9940\n",
            "Epoch 38/50\n",
            "3360/3360 [==============================] - 15s 4ms/step - loss: 0.0724 - accuracy: 0.9750 - val_loss: 0.0048 - val_accuracy: 0.9988\n",
            "Epoch 39/50\n",
            "3360/3360 [==============================] - 15s 4ms/step - loss: 0.0599 - accuracy: 0.9777 - val_loss: 0.0072 - val_accuracy: 0.9988\n",
            "Epoch 40/50\n",
            "3360/3360 [==============================] - 15s 4ms/step - loss: 0.0606 - accuracy: 0.9786 - val_loss: 0.0078 - val_accuracy: 0.9976\n",
            "Epoch 41/50\n",
            "3360/3360 [==============================] - 15s 4ms/step - loss: 0.0674 - accuracy: 0.9753 - val_loss: 0.0067 - val_accuracy: 0.9988\n",
            "Epoch 42/50\n",
            "3360/3360 [==============================] - 15s 4ms/step - loss: 0.0632 - accuracy: 0.9750 - val_loss: 0.0087 - val_accuracy: 0.9988\n",
            "Epoch 43/50\n",
            "3360/3360 [==============================] - 15s 4ms/step - loss: 0.0671 - accuracy: 0.9756 - val_loss: 0.1392 - val_accuracy: 0.9595\n",
            "Epoch 44/50\n",
            "3360/3360 [==============================] - 15s 4ms/step - loss: 0.0675 - accuracy: 0.9783 - val_loss: 0.0051 - val_accuracy: 0.9988\n",
            "Epoch 45/50\n",
            "3360/3360 [==============================] - 15s 4ms/step - loss: 0.0474 - accuracy: 0.9818 - val_loss: 0.0072 - val_accuracy: 1.0000\n",
            "Epoch 46/50\n",
            "3360/3360 [==============================] - 15s 4ms/step - loss: 0.0576 - accuracy: 0.9777 - val_loss: 0.0280 - val_accuracy: 0.9929\n",
            "Epoch 47/50\n",
            "3360/3360 [==============================] - 15s 4ms/step - loss: 0.0560 - accuracy: 0.9804 - val_loss: 0.0057 - val_accuracy: 0.9988\n",
            "Epoch 48/50\n",
            "3360/3360 [==============================] - 15s 4ms/step - loss: 0.0546 - accuracy: 0.9818 - val_loss: 0.0081 - val_accuracy: 0.9976\n",
            "Epoch 49/50\n",
            "3360/3360 [==============================] - 15s 4ms/step - loss: 0.0594 - accuracy: 0.9777 - val_loss: 0.0079 - val_accuracy: 0.9988\n",
            "Epoch 50/50\n",
            "3360/3360 [==============================] - 15s 4ms/step - loss: 0.0456 - accuracy: 0.9824 - val_loss: 0.0136 - val_accuracy: 0.9988\n"
          ],
          "name": "stdout"
        }
      ]
    },
    {
      "cell_type": "markdown",
      "metadata": {
        "id": "zwhMQz3Voy1b",
        "colab_type": "text"
      },
      "source": [
        "VGG16 (Pretrained CNN based model with 12 layers):"
      ]
    },
    {
      "cell_type": "code",
      "metadata": {
        "id": "ISZYBx55oyT6",
        "colab_type": "code",
        "colab": {
          "base_uri": "https://localhost:8080/",
          "height": 1000
        },
        "outputId": "30d094b4-d6a0-41fe-f70a-6ca254fda533"
      },
      "source": [
        "vgg16_model = keras.applications.vgg16.VGG16()\n",
        "#vgg16_model = keras.applications.vgg16.VGG16(weights=\"imagenet\", include_top=False, input_tensor=Input(shape=(224, 224, 1)))\n",
        "vgg16_model.summary()\n",
        "# print(\"#----------------VGG16 Summary-------------#\")\n",
        "for layer in vgg16_model.layers:\n",
        "  CNN_model.add(layer)\n",
        "# print(\"#----------------CNN Summary----------------#\")\n",
        "CNN_model.summary()\n",
        "CNN_model.layers.pop()\n",
        "for layer in CNN_model.layers:\n",
        "  layer.trainable = False     #Freezing layers so that these are not trained\n",
        "CNN_model.add(Dense(num_classes, activation='softmax'))\n",
        "# print(\"#----------------CNN Summary--------#\")\n",
        "CNN_model.summary()"
      ],
      "execution_count": 28,
      "outputs": [
        {
          "output_type": "stream",
          "text": [
            "Model: \"vgg16\"\n",
            "_________________________________________________________________\n",
            "Layer (type)                 Output Shape              Param #   \n",
            "=================================================================\n",
            "input_3 (InputLayer)         (None, 224, 224, 3)       0         \n",
            "_________________________________________________________________\n",
            "block1_conv1 (Conv2D)        (None, 224, 224, 64)      1792      \n",
            "_________________________________________________________________\n",
            "block1_conv2 (Conv2D)        (None, 224, 224, 64)      36928     \n",
            "_________________________________________________________________\n",
            "block1_pool (MaxPooling2D)   (None, 112, 112, 64)      0         \n",
            "_________________________________________________________________\n",
            "block2_conv1 (Conv2D)        (None, 112, 112, 128)     73856     \n",
            "_________________________________________________________________\n",
            "block2_conv2 (Conv2D)        (None, 112, 112, 128)     147584    \n",
            "_________________________________________________________________\n",
            "block2_pool (MaxPooling2D)   (None, 56, 56, 128)       0         \n",
            "_________________________________________________________________\n",
            "block3_conv1 (Conv2D)        (None, 56, 56, 256)       295168    \n",
            "_________________________________________________________________\n",
            "block3_conv2 (Conv2D)        (None, 56, 56, 256)       590080    \n",
            "_________________________________________________________________\n",
            "block3_conv3 (Conv2D)        (None, 56, 56, 256)       590080    \n",
            "_________________________________________________________________\n",
            "block3_pool (MaxPooling2D)   (None, 28, 28, 256)       0         \n",
            "_________________________________________________________________\n",
            "block4_conv1 (Conv2D)        (None, 28, 28, 512)       1180160   \n",
            "_________________________________________________________________\n",
            "block4_conv2 (Conv2D)        (None, 28, 28, 512)       2359808   \n",
            "_________________________________________________________________\n",
            "block4_conv3 (Conv2D)        (None, 28, 28, 512)       2359808   \n",
            "_________________________________________________________________\n",
            "block4_pool (MaxPooling2D)   (None, 14, 14, 512)       0         \n",
            "_________________________________________________________________\n",
            "block5_conv1 (Conv2D)        (None, 14, 14, 512)       2359808   \n",
            "_________________________________________________________________\n",
            "block5_conv2 (Conv2D)        (None, 14, 14, 512)       2359808   \n",
            "_________________________________________________________________\n",
            "block5_conv3 (Conv2D)        (None, 14, 14, 512)       2359808   \n",
            "_________________________________________________________________\n",
            "block5_pool (MaxPooling2D)   (None, 7, 7, 512)         0         \n",
            "_________________________________________________________________\n",
            "flatten (Flatten)            (None, 25088)             0         \n",
            "_________________________________________________________________\n",
            "fc1 (Dense)                  (None, 4096)              102764544 \n",
            "_________________________________________________________________\n",
            "fc2 (Dense)                  (None, 4096)              16781312  \n",
            "_________________________________________________________________\n",
            "predictions (Dense)          (None, 1000)              4097000   \n",
            "=================================================================\n",
            "Total params: 138,357,544\n",
            "Trainable params: 138,357,544\n",
            "Non-trainable params: 0\n",
            "_________________________________________________________________\n",
            "Model: \"sequential_3\"\n",
            "_________________________________________________________________\n",
            "Layer (type)                 Output Shape              Param #   \n",
            "=================================================================\n",
            "block1_conv1 (Conv2D)        (None, 224, 224, 64)      1792      \n",
            "_________________________________________________________________\n",
            "block1_conv2 (Conv2D)        (None, 224, 224, 64)      36928     \n",
            "_________________________________________________________________\n",
            "block1_pool (MaxPooling2D)   (None, 112, 112, 64)      0         \n",
            "_________________________________________________________________\n",
            "block2_conv1 (Conv2D)        (None, 112, 112, 128)     73856     \n",
            "_________________________________________________________________\n",
            "block2_conv2 (Conv2D)        (None, 112, 112, 128)     147584    \n",
            "_________________________________________________________________\n",
            "block2_pool (MaxPooling2D)   (None, 56, 56, 128)       0         \n",
            "_________________________________________________________________\n",
            "block3_conv1 (Conv2D)        (None, 56, 56, 256)       295168    \n",
            "_________________________________________________________________\n",
            "block3_conv2 (Conv2D)        (None, 56, 56, 256)       590080    \n",
            "_________________________________________________________________\n",
            "block3_conv3 (Conv2D)        (None, 56, 56, 256)       590080    \n",
            "_________________________________________________________________\n",
            "block3_pool (MaxPooling2D)   (None, 28, 28, 256)       0         \n",
            "_________________________________________________________________\n",
            "block4_conv1 (Conv2D)        (None, 28, 28, 512)       1180160   \n",
            "_________________________________________________________________\n",
            "block4_conv2 (Conv2D)        (None, 28, 28, 512)       2359808   \n",
            "_________________________________________________________________\n",
            "block4_conv3 (Conv2D)        (None, 28, 28, 512)       2359808   \n",
            "_________________________________________________________________\n",
            "block4_pool (MaxPooling2D)   (None, 14, 14, 512)       0         \n",
            "_________________________________________________________________\n",
            "block5_conv1 (Conv2D)        (None, 14, 14, 512)       2359808   \n",
            "_________________________________________________________________\n",
            "block5_conv2 (Conv2D)        (None, 14, 14, 512)       2359808   \n",
            "_________________________________________________________________\n",
            "block5_conv3 (Conv2D)        (None, 14, 14, 512)       2359808   \n",
            "_________________________________________________________________\n",
            "block5_pool (MaxPooling2D)   (None, 7, 7, 512)         0         \n",
            "_________________________________________________________________\n",
            "flatten (Flatten)            (None, 25088)             0         \n",
            "_________________________________________________________________\n",
            "fc1 (Dense)                  (None, 4096)              102764544 \n",
            "_________________________________________________________________\n",
            "fc2 (Dense)                  (None, 4096)              16781312  \n",
            "_________________________________________________________________\n",
            "predictions (Dense)          (None, 1000)              4097000   \n",
            "=================================================================\n",
            "Total params: 138,357,544\n",
            "Trainable params: 138,357,544\n",
            "Non-trainable params: 0\n",
            "_________________________________________________________________\n",
            "Model: \"sequential_3\"\n",
            "_________________________________________________________________\n",
            "Layer (type)                 Output Shape              Param #   \n",
            "=================================================================\n",
            "block1_conv1 (Conv2D)        (None, 224, 224, 64)      1792      \n",
            "_________________________________________________________________\n",
            "block1_conv2 (Conv2D)        (None, 224, 224, 64)      36928     \n",
            "_________________________________________________________________\n",
            "block1_pool (MaxPooling2D)   (None, 112, 112, 64)      0         \n",
            "_________________________________________________________________\n",
            "block2_conv1 (Conv2D)        (None, 112, 112, 128)     73856     \n",
            "_________________________________________________________________\n",
            "block2_conv2 (Conv2D)        (None, 112, 112, 128)     147584    \n",
            "_________________________________________________________________\n",
            "block2_pool (MaxPooling2D)   (None, 56, 56, 128)       0         \n",
            "_________________________________________________________________\n",
            "block3_conv1 (Conv2D)        (None, 56, 56, 256)       295168    \n",
            "_________________________________________________________________\n",
            "block3_conv2 (Conv2D)        (None, 56, 56, 256)       590080    \n",
            "_________________________________________________________________\n",
            "block3_conv3 (Conv2D)        (None, 56, 56, 256)       590080    \n",
            "_________________________________________________________________\n",
            "block3_pool (MaxPooling2D)   (None, 28, 28, 256)       0         \n",
            "_________________________________________________________________\n",
            "block4_conv1 (Conv2D)        (None, 28, 28, 512)       1180160   \n",
            "_________________________________________________________________\n",
            "block4_conv2 (Conv2D)        (None, 28, 28, 512)       2359808   \n",
            "_________________________________________________________________\n",
            "block4_conv3 (Conv2D)        (None, 28, 28, 512)       2359808   \n",
            "_________________________________________________________________\n",
            "block4_pool (MaxPooling2D)   (None, 14, 14, 512)       0         \n",
            "_________________________________________________________________\n",
            "block5_conv1 (Conv2D)        (None, 14, 14, 512)       2359808   \n",
            "_________________________________________________________________\n",
            "block5_conv2 (Conv2D)        (None, 14, 14, 512)       2359808   \n",
            "_________________________________________________________________\n",
            "block5_conv3 (Conv2D)        (None, 14, 14, 512)       2359808   \n",
            "_________________________________________________________________\n",
            "block5_pool (MaxPooling2D)   (None, 7, 7, 512)         0         \n",
            "_________________________________________________________________\n",
            "flatten (Flatten)            (None, 25088)             0         \n",
            "_________________________________________________________________\n",
            "fc1 (Dense)                  (None, 4096)              102764544 \n",
            "_________________________________________________________________\n",
            "fc2 (Dense)                  (None, 4096)              16781312  \n",
            "_________________________________________________________________\n",
            "predictions (Dense)          (None, 1000)              4097000   \n",
            "_________________________________________________________________\n",
            "dense_2 (Dense)              (None, 14)                14014     \n",
            "=================================================================\n",
            "Total params: 138,371,558\n",
            "Trainable params: 14,014\n",
            "Non-trainable params: 138,357,544\n",
            "_________________________________________________________________\n"
          ],
          "name": "stdout"
        }
      ]
    },
    {
      "cell_type": "code",
      "metadata": {
        "id": "ObKF1Jjysx-r",
        "colab_type": "code",
        "colab": {}
      },
      "source": [
        "x_train = x_train.reshape((x_train.shape[0], 224, 224, 3))\n",
        "x_test = x_test.reshape((x_test.shape[0], 224, 224, 3))"
      ],
      "execution_count": null,
      "outputs": []
    },
    {
      "cell_type": "code",
      "metadata": {
        "id": "uAD052Byri9E",
        "colab_type": "code",
        "colab": {
          "base_uri": "https://localhost:8080/",
          "height": 1000
        },
        "outputId": "7e797baa-fe1d-447e-adba-7d5a9bc2722d"
      },
      "source": [
        "CNN_model.compile(loss=keras.losses.categorical_crossentropy, optimizer=keras.optimizers.Adam(),metrics=['accuracy'])\n",
        "history = CNN_model.fit(x_train, y_train,epochs=epochs,verbose=1,validation_data=(x_test, y_test))"
      ],
      "execution_count": 50,
      "outputs": [
        {
          "output_type": "stream",
          "text": [
            "Train on 3360 samples, validate on 840 samples\n",
            "Epoch 1/50\n",
            "3360/3360 [==============================] - 13s 4ms/step - loss: 2.4685 - accuracy: 0.5330 - val_loss: 2.4677 - val_accuracy: 0.5488\n",
            "Epoch 2/50\n",
            "3360/3360 [==============================] - 13s 4ms/step - loss: 2.4658 - accuracy: 0.5580 - val_loss: 2.4651 - val_accuracy: 0.5655\n",
            "Epoch 3/50\n",
            "3360/3360 [==============================] - 13s 4ms/step - loss: 2.4629 - accuracy: 0.6021 - val_loss: 2.4619 - val_accuracy: 0.5798\n",
            "Epoch 4/50\n",
            "3360/3360 [==============================] - 13s 4ms/step - loss: 2.4600 - accuracy: 0.6104 - val_loss: 2.4588 - val_accuracy: 0.5762\n",
            "Epoch 5/50\n",
            "3360/3360 [==============================] - 13s 4ms/step - loss: 2.4573 - accuracy: 0.5899 - val_loss: 2.4565 - val_accuracy: 0.5762\n",
            "Epoch 6/50\n",
            "3360/3360 [==============================] - 13s 4ms/step - loss: 2.4544 - accuracy: 0.5762 - val_loss: 2.4533 - val_accuracy: 0.5548\n",
            "Epoch 7/50\n",
            "3360/3360 [==============================] - 13s 4ms/step - loss: 2.4517 - accuracy: 0.6119 - val_loss: 2.4507 - val_accuracy: 0.5976\n",
            "Epoch 8/50\n",
            "3360/3360 [==============================] - 13s 4ms/step - loss: 2.4488 - accuracy: 0.6074 - val_loss: 2.4477 - val_accuracy: 0.5988\n",
            "Epoch 9/50\n",
            "3360/3360 [==============================] - 13s 4ms/step - loss: 2.4462 - accuracy: 0.6247 - val_loss: 2.4454 - val_accuracy: 0.5869\n",
            "Epoch 10/50\n",
            "3360/3360 [==============================] - 13s 4ms/step - loss: 2.4434 - accuracy: 0.6310 - val_loss: 2.4420 - val_accuracy: 0.5929\n",
            "Epoch 11/50\n",
            "3360/3360 [==============================] - 13s 4ms/step - loss: 2.4407 - accuracy: 0.5804 - val_loss: 2.4394 - val_accuracy: 0.5976\n",
            "Epoch 12/50\n",
            "3360/3360 [==============================] - 13s 4ms/step - loss: 2.4378 - accuracy: 0.6167 - val_loss: 2.4365 - val_accuracy: 0.5905\n",
            "Epoch 13/50\n",
            "3360/3360 [==============================] - 13s 4ms/step - loss: 2.4351 - accuracy: 0.5976 - val_loss: 2.4334 - val_accuracy: 0.6000\n",
            "Epoch 14/50\n",
            "3360/3360 [==============================] - 13s 4ms/step - loss: 2.4324 - accuracy: 0.6173 - val_loss: 2.4312 - val_accuracy: 0.5988\n",
            "Epoch 15/50\n",
            "3360/3360 [==============================] - 13s 4ms/step - loss: 2.4297 - accuracy: 0.6057 - val_loss: 2.4282 - val_accuracy: 0.5940\n",
            "Epoch 16/50\n",
            "3360/3360 [==============================] - 13s 4ms/step - loss: 2.4269 - accuracy: 0.5845 - val_loss: 2.4254 - val_accuracy: 0.6012\n",
            "Epoch 17/50\n",
            "3360/3360 [==============================] - 13s 4ms/step - loss: 2.4243 - accuracy: 0.6167 - val_loss: 2.4225 - val_accuracy: 0.5964\n",
            "Epoch 18/50\n",
            "3360/3360 [==============================] - 13s 4ms/step - loss: 2.4214 - accuracy: 0.6363 - val_loss: 2.4197 - val_accuracy: 0.5857\n",
            "Epoch 19/50\n",
            "3360/3360 [==============================] - 13s 4ms/step - loss: 2.4188 - accuracy: 0.6182 - val_loss: 2.4169 - val_accuracy: 0.5917\n",
            "Epoch 20/50\n",
            "3360/3360 [==============================] - 13s 4ms/step - loss: 2.4160 - accuracy: 0.6253 - val_loss: 2.4141 - val_accuracy: 0.5976\n",
            "Epoch 21/50\n",
            "3360/3360 [==============================] - 13s 4ms/step - loss: 2.4133 - accuracy: 0.6375 - val_loss: 2.4115 - val_accuracy: 0.6036\n",
            "Epoch 22/50\n",
            "3360/3360 [==============================] - 13s 4ms/step - loss: 2.4107 - accuracy: 0.6143 - val_loss: 2.4087 - val_accuracy: 0.5976\n",
            "Epoch 23/50\n",
            "3360/3360 [==============================] - 13s 4ms/step - loss: 2.4080 - accuracy: 0.6110 - val_loss: 2.4061 - val_accuracy: 0.5821\n",
            "Epoch 24/50\n",
            "3360/3360 [==============================] - 13s 4ms/step - loss: 2.4053 - accuracy: 0.6158 - val_loss: 2.4035 - val_accuracy: 0.5869\n",
            "Epoch 25/50\n",
            "3360/3360 [==============================] - 13s 4ms/step - loss: 2.4025 - accuracy: 0.6375 - val_loss: 2.4008 - val_accuracy: 0.6119\n",
            "Epoch 26/50\n",
            "3360/3360 [==============================] - 13s 4ms/step - loss: 2.3999 - accuracy: 0.6339 - val_loss: 2.3979 - val_accuracy: 0.6024\n",
            "Epoch 27/50\n",
            "3360/3360 [==============================] - 13s 4ms/step - loss: 2.3972 - accuracy: 0.6060 - val_loss: 2.3954 - val_accuracy: 0.5976\n",
            "Epoch 28/50\n",
            "3360/3360 [==============================] - 13s 4ms/step - loss: 2.3946 - accuracy: 0.6170 - val_loss: 2.3925 - val_accuracy: 0.6202\n",
            "Epoch 29/50\n",
            "3360/3360 [==============================] - 13s 4ms/step - loss: 2.3919 - accuracy: 0.6095 - val_loss: 2.3896 - val_accuracy: 0.5917\n",
            "Epoch 30/50\n",
            "3360/3360 [==============================] - 13s 4ms/step - loss: 2.3893 - accuracy: 0.6045 - val_loss: 2.3871 - val_accuracy: 0.5940\n",
            "Epoch 31/50\n",
            "3360/3360 [==============================] - 13s 4ms/step - loss: 2.3867 - accuracy: 0.6164 - val_loss: 2.3842 - val_accuracy: 0.6000\n",
            "Epoch 32/50\n",
            "3360/3360 [==============================] - 13s 4ms/step - loss: 2.3840 - accuracy: 0.6464 - val_loss: 2.3817 - val_accuracy: 0.6107\n",
            "Epoch 33/50\n",
            "3360/3360 [==============================] - 13s 4ms/step - loss: 2.3813 - accuracy: 0.6327 - val_loss: 2.3789 - val_accuracy: 0.6083\n",
            "Epoch 34/50\n",
            "3360/3360 [==============================] - 13s 4ms/step - loss: 2.3787 - accuracy: 0.6473 - val_loss: 2.3766 - val_accuracy: 0.6012\n",
            "Epoch 35/50\n",
            "3360/3360 [==============================] - 13s 4ms/step - loss: 2.3761 - accuracy: 0.6196 - val_loss: 2.3734 - val_accuracy: 0.5917\n",
            "Epoch 36/50\n",
            "3360/3360 [==============================] - 13s 4ms/step - loss: 2.3736 - accuracy: 0.6208 - val_loss: 2.3709 - val_accuracy: 0.6024\n",
            "Epoch 37/50\n",
            "3360/3360 [==============================] - 13s 4ms/step - loss: 2.3708 - accuracy: 0.6182 - val_loss: 2.3679 - val_accuracy: 0.6024\n",
            "Epoch 38/50\n",
            "3360/3360 [==============================] - 13s 4ms/step - loss: 2.3682 - accuracy: 0.6503 - val_loss: 2.3654 - val_accuracy: 0.6071\n",
            "Epoch 39/50\n",
            "3360/3360 [==============================] - 13s 4ms/step - loss: 2.3655 - accuracy: 0.6443 - val_loss: 2.3629 - val_accuracy: 0.6060\n",
            "Epoch 40/50\n",
            "3360/3360 [==============================] - 13s 4ms/step - loss: 2.3630 - accuracy: 0.6345 - val_loss: 2.3601 - val_accuracy: 0.6107\n",
            "Epoch 41/50\n",
            "3360/3360 [==============================] - 13s 4ms/step - loss: 2.3603 - accuracy: 0.6313 - val_loss: 2.3575 - val_accuracy: 0.6048\n",
            "Epoch 42/50\n",
            "3360/3360 [==============================] - 13s 4ms/step - loss: 2.3578 - accuracy: 0.6259 - val_loss: 2.3551 - val_accuracy: 0.6286\n",
            "Epoch 43/50\n",
            "3360/3360 [==============================] - 13s 4ms/step - loss: 2.3551 - accuracy: 0.6494 - val_loss: 2.3523 - val_accuracy: 0.6083\n",
            "Epoch 44/50\n",
            "3360/3360 [==============================] - 13s 4ms/step - loss: 2.3524 - accuracy: 0.6167 - val_loss: 2.3497 - val_accuracy: 0.6012\n",
            "Epoch 45/50\n",
            "3360/3360 [==============================] - 13s 4ms/step - loss: 2.3500 - accuracy: 0.6711 - val_loss: 2.3470 - val_accuracy: 0.6357\n",
            "Epoch 46/50\n",
            "3360/3360 [==============================] - 13s 4ms/step - loss: 2.3473 - accuracy: 0.6265 - val_loss: 2.3443 - val_accuracy: 0.6083\n",
            "Epoch 47/50\n",
            "3360/3360 [==============================] - 13s 4ms/step - loss: 2.3447 - accuracy: 0.6649 - val_loss: 2.3416 - val_accuracy: 0.6167\n",
            "Epoch 48/50\n",
            "3360/3360 [==============================] - 13s 4ms/step - loss: 2.3422 - accuracy: 0.6321 - val_loss: 2.3390 - val_accuracy: 0.6071\n",
            "Epoch 49/50\n",
            "3360/3360 [==============================] - 13s 4ms/step - loss: 2.3396 - accuracy: 0.6292 - val_loss: 2.3367 - val_accuracy: 0.6119\n",
            "Epoch 50/50\n",
            "3360/3360 [==============================] - 13s 4ms/step - loss: 2.3371 - accuracy: 0.6488 - val_loss: 2.3339 - val_accuracy: 0.6048\n"
          ],
          "name": "stdout"
        }
      ]
    },
    {
      "cell_type": "code",
      "metadata": {
        "id": "mdFmvINernc9",
        "colab_type": "code",
        "colab": {
          "base_uri": "https://localhost:8080/",
          "height": 591
        },
        "outputId": "9847aadc-e3f3-406b-a2ed-0b581cfd6228"
      },
      "source": [
        "print(history.history.keys())\n",
        "# summarize history for accuracy\n",
        "plt.plot(history.history['accuracy'])\n",
        "plt.plot(history.history['val_accuracy'])\n",
        "plt.title('model accuracy')\n",
        "plt.ylabel('accuracy')\n",
        "plt.xlabel('epoch')\n",
        "plt.legend(['train', 'test'], loc='upper left')\n",
        "plt.show()\n",
        "# summarize history for loss\n",
        "plt.plot(history.history['loss'])\n",
        "plt.plot(history.history['val_loss'])\n",
        "plt.title('model loss')\n",
        "plt.ylabel('loss')\n",
        "plt.xlabel('epoch')\n",
        "plt.legend(['train', 'test'], loc='upper left')\n",
        "plt.show()"
      ],
      "execution_count": 42,
      "outputs": [
        {
          "output_type": "stream",
          "text": [
            "dict_keys(['val_loss', 'val_accuracy', 'loss', 'accuracy'])\n"
          ],
          "name": "stdout"
        },
        {
          "output_type": "display_data",
          "data": {
            "image/png": "[encoded data removed]",
            "text/plain": [
              "<Figure size 432x288 with 1 Axes>"
            ]
          },
          "metadata": {
            "tags": [],
            "needs_background": "light"
          }
        },
        {
          "output_type": "display_data",
          "data": {
            "image/png": "[encoded data removed]",
            "text/plain": [
              "<Figure size 432x288 with 1 Axes>"
            ]
          },
          "metadata": {
            "tags": [],
            "needs_background": "light"
          }
        }
      ]
    },
    {
      "cell_type": "code",
      "metadata": {
        "id": "Rdrdegeyr7UH",
        "colab_type": "code",
        "colab": {
          "base_uri": "https://localhost:8080/",
          "height": 90
        },
        "outputId": "1c354840-c8fc-4b7f-cdc1-ffd70689439d"
      },
      "source": [
        "result = CNN_model.evaluate(x_train, y_train)\n",
        "print('train loss, train acc:', result)\n",
        "result2 = CNN_model.evaluate(x_test, y_test)\n",
        "print('test loss, test acc:', result2)"
      ],
      "execution_count": 43,
      "outputs": [
        {
          "output_type": "stream",
          "text": [
            "3360/3360 [==============================] - 6s 2ms/step\n",
            "train loss, train acc: [0.005340931020466433, 0.9997023940086365]\n",
            "840/840 [==============================] - 1s 2ms/step\n",
            "test loss, test acc: [0.013649754293839491, 0.9988095164299011]\n"
          ],
          "name": "stdout"
        }
      ]
    },
    {
      "cell_type": "code",
      "metadata": {
        "id": "FXCPWupmoRHb",
        "colab_type": "code",
        "colab": {
          "base_uri": "https://localhost:8080/",
          "height": 55
        },
        "outputId": "634fdb1b-b2d0-44fe-b707-2b0410a0514e"
      },
      "source": [
        "print(history.history.values())"
      ],
      "execution_count": 44,
      "outputs": [
        {
          "output_type": "stream",
          "text": [
            "dict_values([[1.362811483655657, 0.5507602873302642, 0.3978803302560534, 0.1963818287210805, 0.1321866683484543, 0.11214669949951626, 0.05578977983622324, 0.08494898416101933, 0.05687831896578982, 0.06470613223278807, 0.03588323883180108, 0.019921459277559603, 0.04316855941766075, 0.061856014290381046, 0.026204990996934827, 0.0674547654532251, 0.018082886583925713, 0.013831576390103215, 0.05030656114575409, 0.013655202270352414, 0.009833108543673353, 0.013349412228646024, 0.005532372452857782, 0.015027709522456419, 0.016577157323869565, 0.008324055552033574, 0.012965054989105001, 0.026568909177911423, 0.006754734601764496, 0.006077926031624278, 0.004737587537619263, 0.011449527139553712, 0.006045019491631094, 0.014347781912822809, 0.012761226773450506, 0.006906528796978472, 0.012836938433992189, 0.004826437390875071, 0.007212153368718213, 0.007758942789292806, 0.006660943758851361, 0.00867070335856018, 0.13919011496362232, 0.005094063724391163, 0.007243290776386857, 0.028041837772443182, 0.005722310489814152, 0.008061599341731163, 0.007895785348401184, 0.013649754293839491], [0.7011904716491699, 0.8345237970352173, 0.8797619342803955, 0.9285714030265808, 0.9595237970352173, 0.9833333492279053, 0.9845238327980042, 0.9952380657196045, 0.9904761910438538, 0.9833333492279053, 0.9952380657196045, 0.9964285492897034, 0.9845238327980042, 0.9821428656578064, 0.9916666746139526, 0.9845238327980042, 0.9952380657196045, 0.9988095164299011, 0.9857142567634583, 0.9976190328598022, 0.9988095164299011, 0.9964285492897034, 0.9976190328598022, 0.9952380657196045, 0.9964285492897034, 0.9976190328598022, 0.9964285492897034, 0.9952380657196045, 0.9976190328598022, 0.9988095164299011, 1.0, 0.9976190328598022, 0.9976190328598022, 0.9964285492897034, 0.9964285492897034, 0.9988095164299011, 0.9940476417541504, 0.9988095164299011, 0.9988095164299011, 0.9976190328598022, 0.9988095164299011, 0.9988095164299011, 0.9595237970352173, 0.9988095164299011, 1.0, 0.9928571581840515, 0.9988095164299011, 0.9976190328598022, 0.9988095164299011, 0.9988095164299011], [2.069472132410322, 1.0445383315994625, 0.5988024890422821, 0.45732810823690323, 0.3357109757406371, 0.2843989793033827, 0.21292309587200484, 0.21542086918793973, 0.1965208483948594, 0.16487638537018073, 0.15364427832176997, 0.14092168824835902, 0.12092134097058858, 0.1402900417313157, 0.15533545691342582, 0.14263378877991012, 0.10629002073990358, 0.08680122898270687, 0.09898942002605292, 0.09533297461679294, 0.0795146639325789, 0.08560750039649151, 0.07429813227860169, 0.10083371024312718, 0.08443505375402137, 0.08170026746035243, 0.07627895652757226, 0.05831419909206618, 0.07201525178083795, 0.057611099220923195, 0.05630540040936986, 0.08252463281054848, 0.06749953561520669, 0.05804108103925717, 0.05883229643694081, 0.050495048176422384, 0.0573686684476256, 0.07244295275165877, 0.05990157255451084, 0.06059210944416312, 0.06739393166464565, 0.06324079943255388, 0.06707563514889141, 0.06750589540128463, 0.047439067873693556, 0.05764475627064322, 0.055978105577690125, 0.05461649030455321, 0.05936165205812791, 0.04564732610236942], [0.2970238, 0.6166667, 0.77648807, 0.83690476, 0.8735119, 0.8970238, 0.9238095, 0.92083335, 0.9270833, 0.9377976, 0.9401786, 0.9464286, 0.95386904, 0.9470238, 0.94315475, 0.9479167, 0.9574405, 0.96428573, 0.96309525, 0.96309525, 0.9702381, 0.97113097, 0.9705357, 0.96160716, 0.97291666, 0.9705357, 0.9717262, 0.9767857, 0.9714286, 0.9779762, 0.9770833, 0.9696429, 0.97410715, 0.97619045, 0.978869, 0.98184526, 0.9809524, 0.975, 0.9776786, 0.9785714, 0.97529763, 0.975, 0.97559524, 0.9782738, 0.98184526, 0.9776786, 0.98035717, 0.98184526, 0.9776786, 0.9824405]])\n"
          ],
          "name": "stdout"
        }
      ]
    },
    {
      "cell_type": "code",
      "metadata": {
        "id": "vpo9dRIRtUsY",
        "colab_type": "code",
        "colab": {
          "base_uri": "https://localhost:8080/",
          "height": 35
        },
        "outputId": "b24f0309-a3b6-4e7b-e134-7536a91546f7"
      },
      "source": [
        "# serialize model to YAML\n",
        "model_yaml = CNN_model.to_yaml()\n",
        "with open(\"CNN_model.yaml\", \"w\") as yaml_file:\n",
        "    yaml_file.write(model_yaml)\n",
        "# serialize weights to HDF5\n",
        "CNN_model.save_weights(\"CNN_model.h5\")\n",
        "print(\"Saved model to disk\")"
      ],
      "execution_count": 45,
      "outputs": [
        {
          "output_type": "stream",
          "text": [
            "Saved model to disk\n"
          ],
          "name": "stdout"
        }
      ]
    },
    {
      "cell_type": "markdown",
      "metadata": {
        "id": "yL7kC0y2tCSy",
        "colab_type": "text"
      },
      "source": [
        "Prediction:"
      ]
    },
    {
      "cell_type": "code",
      "metadata": {
        "id": "js3967KzsEvV",
        "colab_type": "code",
        "colab": {
          "base_uri": "https://localhost:8080/",
          "height": 931
        },
        "outputId": "8a594f4a-0f99-41df-f4f7-be7a72ced104"
      },
      "source": [
        "use_samples = [1, 2, 3, 4]\n",
        "samples_to_predict = []\n",
        "# Generate plots for samples\n",
        "for sample in use_samples:\n",
        "  # Generate a plot\n",
        "  reshaped_image = x_train[sample]\n",
        "  samples_to_predict.append(reshaped_image)\n",
        "  cv2_imshow(reshaped_image)\n",
        "samples_to_predict = np.asarray(samples_to_predict)\n",
        "predictions = CNN_model.predict(samples_to_predict)\n",
        "classes = np.argmax(predictions, axis = 1)\n",
        "pred_labels = classes\n",
        "print(classes)"
      ],
      "execution_count": null,
      "outputs": [
        {
          "output_type": "display_data",
          "data": {
            "image/png": "[encoded data removed]",
            "text/plain": [
              "<PIL.Image.Image image mode=RGB size=224x224 at 0x7FDB1E9324E0>"
            ]
          },
          "metadata": {
            "tags": []
          }
        },
        {
          "output_type": "display_data",
          "data": {
            "image/png": "[encoded data removed]",
            "text/plain": [
              "<PIL.Image.Image image mode=RGB size=224x224 at 0x7FDB1E9323C8>"
            ]
          },
          "metadata": {
            "tags": []
          }
        },
        {
          "output_type": "display_data",
          "data": {
            "image/png": "[encoded data removed]",
            "text/plain": [
              "<PIL.Image.Image image mode=RGB size=224x224 at 0x7FDB1E9324E0>"
            ]
          },
          "metadata": {
            "tags": []
          }
        },
        {
          "output_type": "display_data",
          "data": {
            "image/png": "[encoded data removed]",
            "text/plain": [
              "<PIL.Image.Image image mode=RGB size=224x224 at 0x7FDB1E9323C8>"
            ]
          },
          "metadata": {
            "tags": []
          }
        },
        {
          "output_type": "stream",
          "text": [
            "[1 1 1 1]\n"
          ],
          "name": "stdout"
        }
      ]
    },
    {
      "cell_type": "code",
      "metadata": {
        "id": "ldhNExTstOf4",
        "colab_type": "code",
        "colab": {
          "base_uri": "https://localhost:8080/",
          "height": 90
        },
        "outputId": "21ca773a-1900-404c-95a4-6fca9d676ec8"
      },
      "source": [
        "for i in use_samples:\n",
        "    count=0\n",
        "    for j in y_train[i]:\n",
        "      if j==1:\n",
        "        print(count)\n",
        "        break\n",
        "      else:\n",
        "        count+=1"
      ],
      "execution_count": null,
      "outputs": [
        {
          "output_type": "stream",
          "text": [
            "1\n",
            "2\n",
            "2\n",
            "2\n"
          ],
          "name": "stdout"
        }
      ]
    }
  ]
}