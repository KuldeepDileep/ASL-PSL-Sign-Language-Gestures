{
  "nbformat": 4,
  "nbformat_minor": 0,
  "metadata": {
    "colab": {
      "name": "AlexNet.ipynb",
      "provenance": [],
      "collapsed_sections": []
    },
    "kernelspec": {
      "name": "python3",
      "display_name": "Python 3"
    },
    "accelerator": "GPU"
  },
  "cells": [
    {
      "cell_type": "code",
      "metadata": {
        "id": "dIM7TZBaltj7",
        "colab_type": "code",
        "colab": {
          "base_uri": "https://localhost:8080/",
          "height": 35
        },
        "outputId": "c28c275b-79ca-4d25-bb83-5381fec5fca5"
      },
      "source": [
        "import numpy as np\n",
        "import matplotlib.pyplot as plt\n",
        "import os\n",
        "import cv2\n",
        "import random\n",
        "import numpy as np\n",
        "import keras\n",
        "from keras.models import Sequential, Model\n",
        "from keras.layers import Flatten, Activation, Dense, Concatenate, Dot, Lambda, Input\n",
        "from keras.datasets import mnist\n",
        "from keras.optimizers import Adam\n",
        "import matplotlib.pyplot as plt\n",
        "import os\n",
        "from PIL import Image\n",
        "import numpy as np\n",
        "from sklearn.model_selection import train_test_split\n",
        "from sklearn import svm\n",
        "from sklearn.metrics import accuracy_score\n",
        "import pickle\n",
        "from sklearn import svm\n",
        "from keras.datasets import cifar10\n",
        "import numpy as np\n",
        "import matplotlib.pyplot as plt\n",
        "from keras.utils import to_categorical\n",
        "import keras\n",
        "from keras.models import Sequential,Input,Model\n",
        "from keras.layers import Dense, Dropout, Flatten\n",
        "from keras.layers import Conv2D, MaxPooling2D\n",
        "from keras.layers.normalization import BatchNormalization\n",
        "from keras.layers.advanced_activations import LeakyReLU\n",
        "from google.colab.patches import cv2_imshow\n",
        "from keras.layers.normalization import BatchNormalization\n",
        "from numpy import load "
      ],
      "execution_count": 1,
      "outputs": [
        {
          "output_type": "stream",
          "text": [
            "Using TensorFlow backend.\n"
          ],
          "name": "stderr"
        }
      ]
    },
    {
      "cell_type": "code",
      "metadata": {
        "id": "fXZD6_E0l2rm",
        "colab_type": "code",
        "colab": {
          "base_uri": "https://localhost:8080/",
          "height": 35
        },
        "outputId": "0e88d0a5-968c-4d56-bf10-51a9ae4b2989"
      },
      "source": [
        "!pwd\n",
        "!rm -rf ASL-PSL-Sign-Language-Gestures\n",
        "!rm -rf Gestures"
      ],
      "execution_count": 2,
      "outputs": [
        {
          "output_type": "stream",
          "text": [
            "/content\n"
          ],
          "name": "stdout"
        }
      ]
    },
    {
      "cell_type": "code",
      "metadata": {
        "id": "WCC4ANyNl63d",
        "colab_type": "code",
        "colab": {
          "base_uri": "https://localhost:8080/",
          "height": 127
        },
        "outputId": "668fdbba-ae90-4d1b-d13f-d557ebde4b7b"
      },
      "source": [
        "!git clone https://github.com/KuldeepDileep/ASL-PSL-Sign-Language-Gestures.git\n",
        "!rm -rf ASL Gestures\n",
        "!rm -rf PSL Gestures\n",
        "!mkdir -p Gestures"
      ],
      "execution_count": 3,
      "outputs": [
        {
          "output_type": "stream",
          "text": [
            "Cloning into 'ASL-PSL-Sign-Language-Gestures'...\n",
            "remote: Enumerating objects: 405, done.\u001b[K\n",
            "remote: Total 405 (delta 0), reused 0 (delta 0), pack-reused 405\u001b[K\n",
            "Receiving objects: 100% (405/405), 717.55 MiB | 36.97 MiB/s, done.\n",
            "Resolving deltas: 100% (90/90), done.\n",
            "Checking out files: 100% (61/61), done.\n"
          ],
          "name": "stdout"
        }
      ]
    },
    {
      "cell_type": "code",
      "metadata": {
        "id": "0OqDPvccmB1q",
        "colab_type": "code",
        "colab": {}
      },
      "source": [
        "import zipfile\n",
        "with zipfile.ZipFile('/content/ASL-PSL-Sign-Language-Gestures/m.zip', 'r') as zip_ref:\n",
        "    zip_ref.extractall('/content/Gestures')\n",
        "with zipfile.ZipFile('/content/ASL-PSL-Sign-Language-Gestures/d.zip', 'r') as zip_ref:\n",
        "    zip_ref.extractall('/content/Gestures')\n",
        "with zipfile.ZipFile('/content/ASL-PSL-Sign-Language-Gestures/u.zip', 'r') as zip_ref:\n",
        "    zip_ref.extractall('/content/Gestures')\n",
        "# with zipfile.ZipFile('/content/ASL-PSL-Sign-Language-Gestures/ASL-1.zip', 'r') as zip_ref:\n",
        "#     zip_ref.extractall('/content/Gestures')\n",
        "# with zipfile.ZipFile('/content/ASL-PSL-Sign-Language-Gestures/ASL-2.zip', 'r') as zip_ref:\n",
        "#     zip_ref.extractall('/content/Gestures')\n",
        "# with zipfile.ZipFile('/content/ASL-PSL-Sign-Language-Gestures/ASL-3.zip', 'r') as zip_ref:\n",
        "#     zip_ref.extractall('/content/Gestures')\n",
        "# with zipfile.ZipFile('/content/ASL-PSL-Sign-Language-Gestures/ASL-4.zip', 'r') as zip_ref:\n",
        "#   zip_ref.extractall('/content/Gestures')\n",
        "# with zipfile.ZipFile('/content/ASL-PSL-Sign-Language-Gestures/ASL-5.zip', 'r') as zip_ref:\n",
        "#     zip_ref.extractall('/content/Gestures')\n",
        "# with zipfile.ZipFile('/content/ASL-PSL-Sign-Language-Gestures/ASL-6.zip', 'r') as zip_ref:\n",
        "#     zip_ref.extractall('/content/Gestures')\n",
        "# with zipfile.ZipFile('/content/ASL-PSL-Sign-Language-Gestures/ASL-7.zip', 'r') as zip_ref:\n",
        "#     zip_ref.extractall('/content/Gestures')\n",
        "# with zipfile.ZipFile('/content/ASL-PSL-Sign-Language-Gestures/ASL-8.zip', 'r') as zip_ref:\n",
        "#     zip_ref.extractall('/content/Gestures')\n",
        "# with zipfile.ZipFile('/content/ASL-PSL-Sign-Language-Gestures/ASL-9.zip', 'r') as zip_ref:\n",
        "#     zip_ref.extractall('/content/Gestures')\n",
        "# with zipfile.ZipFile('/content/ASL-PSL-Sign-Language-Gestures/ASL-10.zip', 'r') as zip_ref:\n",
        "#     zip_ref.extractall('/content/Gestures')"
      ],
      "execution_count": 4,
      "outputs": []
    },
    {
      "cell_type": "code",
      "metadata": {
        "id": "SutfmfiHmGWM",
        "colab_type": "code",
        "colab": {
          "base_uri": "https://localhost:8080/",
          "height": 90
        },
        "outputId": "d8c465bf-e757-4b92-f206-b6c4c1cfd573"
      },
      "source": [
        "TrainDir = '/content/Gestures'\n",
        "\n",
        "count=0\n",
        "current_id = 0\n",
        "label_ids = {}\n",
        "x_train = []\n",
        "y_labels= []\n",
        "\n",
        "image_train = []\n",
        "label_train =[]\n",
        "\n",
        "\n",
        "#---------------------------------------Extracting Train Images-----------------------------------------\n",
        "for root, dirs, files in os.walk(TrainDir):\n",
        "    for file in files:\n",
        "        if file.endswith(\"png\") or  file.endswith(\"jpeg\") or file.endswith(\"jpg\"):\n",
        "            count+=1\n",
        "            path = os.path.join(root, file)\n",
        "            label = os.path.basename(os.path.dirname(path)).replace(\" \",\",\").lower()\n",
        "            label = os.path.basename(root).replace(\" \",\",\").lower()\n",
        "            if not label in label_ids: #if the current label is not in dictionsry we save it with the corresponding current_id i.e 0,1,2\n",
        "                label_ids[label] = current_id\n",
        "                current_id +=1\n",
        "            id_ = label_ids[label]\n",
        "            label_train.append(id_)\n",
        "\n",
        "            \n",
        "            image_array = plt.imread(path)\n",
        "            image_array = cv2.resize(image_array, (224,224), interpolation=cv2.INTER_LINEAR)\n",
        "            #image_array = cv2.cvtColor(image_array,cv2.COLOR_GRAY2RGB)\n",
        "            image_array = np.array(image_array, dtype='float16')\n",
        "            image_train.append(image_array)\n",
        "            #print(image_array)\n",
        "print(\"----------------------------Label_ids----------------------------------\")\n",
        "print(label_ids)\n",
        "print(label_ids)\n",
        "print(count)"
      ],
      "execution_count": 5,
      "outputs": [
        {
          "output_type": "stream",
          "text": [
            "----------------------------Label_ids----------------------------------\n",
            "{'h': 0, 'b': 1, 'm': 2, 'd': 3, 'p': 4, 'i': 5, 'n': 6, 'v': 7, 'c': 8, 'a': 9, 'g': 10, 'e': 11, 'u': 12, 'k': 13}\n",
            "{'h': 0, 'b': 1, 'm': 2, 'd': 3, 'p': 4, 'i': 5, 'n': 6, 'v': 7, 'c': 8, 'a': 9, 'g': 10, 'e': 11, 'u': 12, 'k': 13}\n",
            "4200\n"
          ],
          "name": "stdout"
        }
      ]
    },
    {
      "cell_type": "code",
      "metadata": {
        "id": "RerlKCTvmjjv",
        "colab_type": "code",
        "colab": {
          "base_uri": "https://localhost:8080/",
          "height": 54
        },
        "outputId": "6063fbdd-e3ec-47fc-9f4d-726ebd577d3b"
      },
      "source": [
        "image_train = np.asarray(image_train)\n",
        "label_train = np.asarray(label_train)\n",
        "x_train = image_train\n",
        "y_train = label_train\n",
        "print(y_train.shape)\n",
        "print(x_train.shape)"
      ],
      "execution_count": 6,
      "outputs": [
        {
          "output_type": "stream",
          "text": [
            "(4200,)\n",
            "(4200, 224, 224)\n"
          ],
          "name": "stdout"
        }
      ]
    },
    {
      "cell_type": "markdown",
      "metadata": {
        "id": "CtE5lKDSns-8",
        "colab_type": "text"
      },
      "source": [
        "Spliting data:"
      ]
    },
    {
      "cell_type": "code",
      "metadata": {
        "id": "0H_HRgsvmuz-",
        "colab_type": "code",
        "colab": {}
      },
      "source": [
        "#-----------------------------------------------Test and Train Spli--------------------------------------\n",
        "x_train,x_test,y_train,y_test=train_test_split(x_train,y_train,test_size=0.2)\n",
        "#print(x_train.shape)\n",
        "#print(x_test.shape)"
      ],
      "execution_count": 7,
      "outputs": []
    },
    {
      "cell_type": "markdown",
      "metadata": {
        "id": "kk7GgGNPn3dA",
        "colab_type": "text"
      },
      "source": [
        "Data Normalization:"
      ]
    },
    {
      "cell_type": "code",
      "metadata": {
        "id": "OaG_qRnRn3Il",
        "colab_type": "code",
        "colab": {}
      },
      "source": [
        "x_train = x_train/np.max(x_train)\n",
        "x_test = x_test/np.max(x_test)"
      ],
      "execution_count": 8,
      "outputs": []
    },
    {
      "cell_type": "markdown",
      "metadata": {
        "id": "nqeSzncLqSJJ",
        "colab_type": "text"
      },
      "source": [
        "One-Hot Encoding:"
      ]
    },
    {
      "cell_type": "code",
      "metadata": {
        "id": "gGlx_cZeqRXt",
        "colab_type": "code",
        "colab": {}
      },
      "source": [
        "y_train = to_categorical(y_train)\n",
        "y_test = to_categorical(y_test)"
      ],
      "execution_count": 9,
      "outputs": []
    },
    {
      "cell_type": "code",
      "metadata": {
        "id": "bCiY9iR5qcUN",
        "colab_type": "code",
        "colab": {
          "base_uri": "https://localhost:8080/",
          "height": 90
        },
        "outputId": "b50fd04b-a18e-4745-bb5a-3ac76c76a9cf"
      },
      "source": [
        "print(x_train.shape)\n",
        "print(y_train.shape)\n",
        "print(x_test.shape)\n",
        "print(y_test.shape)"
      ],
      "execution_count": 10,
      "outputs": [
        {
          "output_type": "stream",
          "text": [
            "(3360, 224, 224)\n",
            "(3360, 14)\n",
            "(840, 224, 224)\n",
            "(840, 14)\n"
          ],
          "name": "stdout"
        }
      ]
    },
    {
      "cell_type": "markdown",
      "metadata": {
        "id": "0Ek4ZhQ9ZvgY",
        "colab_type": "text"
      },
      "source": [
        "AlexNet (8 Layers):"
      ]
    },
    {
      "cell_type": "code",
      "metadata": {
        "id": "UeOlqgmm2aNT",
        "colab_type": "code",
        "colab": {}
      },
      "source": [
        "x_train = x_train.reshape((x_train.shape[0], 224, 224, 1))\n",
        "x_test = x_test.reshape((x_test.shape[0], 224, 224, 1))\n",
        "epochs = 50\n",
        "num_classes = 14"
      ],
      "execution_count": 11,
      "outputs": []
    },
    {
      "cell_type": "code",
      "metadata": {
        "id": "sbFdTqJpZzld",
        "colab_type": "code",
        "colab": {
          "base_uri": "https://localhost:8080/",
          "height": 1000
        },
        "outputId": "7b8fcba9-cbd9-47e0-eb59-7df645870e6e"
      },
      "source": [
        "# Instantiate a Sequential model\n",
        "model = Sequential()\n",
        "\n",
        "# 1st Convolutional Layer\n",
        "model.add(Conv2D(filters=64, input_shape=(224, 224, 1), kernel_size=(3, 3), strides=(4, 4), padding='same'))\n",
        "model.add(Activation('relu'))\n",
        "# Max Pooling\n",
        "model.add(MaxPooling2D(pool_size=(3, 3), strides=(2, 2), padding='same'))\n",
        "\n",
        "# 2nd Convolutional Layer\n",
        "model.add(Conv2D(filters=256, kernel_size=(5, 5), strides=(1, 1), padding='same'))\n",
        "model.add(Activation('relu'))\n",
        "# Max Pooling\n",
        "model.add(MaxPooling2D(pool_size=(3, 3), strides=(2, 2), padding='same'))\n",
        "\n",
        "# 3rd Convolutional Layer\n",
        "model.add(Conv2D(filters=384, kernel_size=(3, 3), strides=(1, 1), padding='same'))\n",
        "model.add(Activation('relu'))\n",
        "\n",
        "# 4th Convolutional Layer\n",
        "model.add(Conv2D(filters=384, kernel_size=(3, 3), strides=(1, 1), padding='same'))\n",
        "model.add(Activation('relu'))\n",
        "\n",
        "# 5th Convolutional Layer\n",
        "model.add(Conv2D(filters=256, kernel_size=(3, 3), strides=(1, 1), padding='same'))\n",
        "model.add(Activation('relu'))\n",
        "# Max Pooling\n",
        "model.add(MaxPooling2D(pool_size=(3, 3), strides=(2, 2), padding='same'))\n",
        "\n",
        "# Fully Connected layer\n",
        "model.add(Flatten())\n",
        "# 1st Fully Connected Layer\n",
        "model.add(Dense(4096, input_shape=(224*224*1,)))\n",
        "model.add(Activation('relu'))\n",
        "# Add Dropout to prevent overfitting\n",
        "model.add(Dropout(0.5))\n",
        "\n",
        "# 2nd Fully Connected Layer\n",
        "model.add(Dense(4096))\n",
        "model.add(Activation('relu'))\n",
        "# Add Dropout\n",
        "model.add(Dropout(0.5))\n",
        "\n",
        "# Output Layer\n",
        "model.add(Dense(num_classes))\n",
        "model.add(Activation('softmax'))\n",
        "\n",
        "model.summary()\n",
        "\n",
        "# Compile the model\n",
        "model.compile(loss=keras.losses.categorical_crossentropy, optimizer='adam', metrics=['accuracy'])\n",
        "history = model.fit(x_train, y_train,epochs=epochs,verbose=1,validation_data=(x_test, y_test))"
      ],
      "execution_count": 18,
      "outputs": [
        {
          "output_type": "stream",
          "text": [
            "Model: \"sequential_3\"\n",
            "_________________________________________________________________\n",
            "Layer (type)                 Output Shape              Param #   \n",
            "=================================================================\n",
            "conv2d_11 (Conv2D)           (None, 56, 56, 64)        640       \n",
            "_________________________________________________________________\n",
            "activation_17 (Activation)   (None, 56, 56, 64)        0         \n",
            "_________________________________________________________________\n",
            "max_pooling2d_7 (MaxPooling2 (None, 28, 28, 64)        0         \n",
            "_________________________________________________________________\n",
            "conv2d_12 (Conv2D)           (None, 28, 28, 256)       409856    \n",
            "_________________________________________________________________\n",
            "activation_18 (Activation)   (None, 28, 28, 256)       0         \n",
            "_________________________________________________________________\n",
            "max_pooling2d_8 (MaxPooling2 (None, 14, 14, 256)       0         \n",
            "_________________________________________________________________\n",
            "conv2d_13 (Conv2D)           (None, 14, 14, 384)       885120    \n",
            "_________________________________________________________________\n",
            "activation_19 (Activation)   (None, 14, 14, 384)       0         \n",
            "_________________________________________________________________\n",
            "conv2d_14 (Conv2D)           (None, 14, 14, 384)       1327488   \n",
            "_________________________________________________________________\n",
            "activation_20 (Activation)   (None, 14, 14, 384)       0         \n",
            "_________________________________________________________________\n",
            "conv2d_15 (Conv2D)           (None, 14, 14, 256)       884992    \n",
            "_________________________________________________________________\n",
            "activation_21 (Activation)   (None, 14, 14, 256)       0         \n",
            "_________________________________________________________________\n",
            "max_pooling2d_9 (MaxPooling2 (None, 7, 7, 256)         0         \n",
            "_________________________________________________________________\n",
            "flatten_3 (Flatten)          (None, 12544)             0         \n",
            "_________________________________________________________________\n",
            "dense_7 (Dense)              (None, 4096)              51384320  \n",
            "_________________________________________________________________\n",
            "activation_22 (Activation)   (None, 4096)              0         \n",
            "_________________________________________________________________\n",
            "dropout_5 (Dropout)          (None, 4096)              0         \n",
            "_________________________________________________________________\n",
            "dense_8 (Dense)              (None, 4096)              16781312  \n",
            "_________________________________________________________________\n",
            "activation_23 (Activation)   (None, 4096)              0         \n",
            "_________________________________________________________________\n",
            "dropout_6 (Dropout)          (None, 4096)              0         \n",
            "_________________________________________________________________\n",
            "dense_9 (Dense)              (None, 14)                57358     \n",
            "_________________________________________________________________\n",
            "activation_24 (Activation)   (None, 14)                0         \n",
            "=================================================================\n",
            "Total params: 71,731,086\n",
            "Trainable params: 71,731,086\n",
            "Non-trainable params: 0\n",
            "_________________________________________________________________\n",
            "Train on 3360 samples, validate on 840 samples\n",
            "Epoch 1/50\n",
            "3360/3360 [==============================] - 6s 2ms/step - loss: 1.5543 - accuracy: 0.4393 - val_loss: 0.3774 - val_accuracy: 0.8619\n",
            "Epoch 2/50\n",
            "3360/3360 [==============================] - 5s 2ms/step - loss: 0.2369 - accuracy: 0.9238 - val_loss: 0.0825 - val_accuracy: 0.9774\n",
            "Epoch 3/50\n",
            "3360/3360 [==============================] - 5s 2ms/step - loss: 0.0655 - accuracy: 0.9801 - val_loss: 0.0376 - val_accuracy: 0.9869\n",
            "Epoch 4/50\n",
            "3360/3360 [==============================] - 5s 2ms/step - loss: 0.0826 - accuracy: 0.9735 - val_loss: 0.0508 - val_accuracy: 0.9798\n",
            "Epoch 5/50\n",
            "3360/3360 [==============================] - 5s 2ms/step - loss: 0.0403 - accuracy: 0.9854 - val_loss: 0.0134 - val_accuracy: 0.9976\n",
            "Epoch 6/50\n",
            "3360/3360 [==============================] - 5s 2ms/step - loss: 0.0334 - accuracy: 0.9902 - val_loss: 0.0085 - val_accuracy: 0.9988\n",
            "Epoch 7/50\n",
            "3360/3360 [==============================] - 5s 2ms/step - loss: 0.0533 - accuracy: 0.9857 - val_loss: 0.0175 - val_accuracy: 0.9952\n",
            "Epoch 8/50\n",
            "3360/3360 [==============================] - 5s 2ms/step - loss: 0.0542 - accuracy: 0.9848 - val_loss: 0.0525 - val_accuracy: 0.9869\n",
            "Epoch 9/50\n",
            "3360/3360 [==============================] - 5s 2ms/step - loss: 0.0444 - accuracy: 0.9893 - val_loss: 0.0040 - val_accuracy: 0.9988\n",
            "Epoch 10/50\n",
            "3360/3360 [==============================] - 5s 2ms/step - loss: 0.0354 - accuracy: 0.9923 - val_loss: 0.0231 - val_accuracy: 0.9952\n",
            "Epoch 11/50\n",
            "3360/3360 [==============================] - 5s 2ms/step - loss: 0.0806 - accuracy: 0.9815 - val_loss: 0.1679 - val_accuracy: 0.9643\n",
            "Epoch 12/50\n",
            "3360/3360 [==============================] - 5s 2ms/step - loss: 0.0577 - accuracy: 0.9830 - val_loss: 0.0160 - val_accuracy: 0.9952\n",
            "Epoch 13/50\n",
            "3360/3360 [==============================] - 5s 2ms/step - loss: 0.0273 - accuracy: 0.9932 - val_loss: 0.0831 - val_accuracy: 0.9774\n",
            "Epoch 14/50\n",
            "3360/3360 [==============================] - 5s 2ms/step - loss: 0.0188 - accuracy: 0.9949 - val_loss: 0.0049 - val_accuracy: 0.9976\n",
            "Epoch 15/50\n",
            "3360/3360 [==============================] - 5s 2ms/step - loss: 7.6062e-04 - accuracy: 0.9997 - val_loss: 1.3636e-05 - val_accuracy: 1.0000\n",
            "Epoch 16/50\n",
            "3360/3360 [==============================] - 5s 2ms/step - loss: 4.9629e-04 - accuracy: 0.9997 - val_loss: 0.0150 - val_accuracy: 0.9929\n",
            "Epoch 17/50\n",
            "3360/3360 [==============================] - 5s 2ms/step - loss: 0.0273 - accuracy: 0.9940 - val_loss: 0.0202 - val_accuracy: 0.9952\n",
            "Epoch 18/50\n",
            "3360/3360 [==============================] - 5s 2ms/step - loss: 0.0569 - accuracy: 0.9863 - val_loss: 0.0064 - val_accuracy: 0.9976\n",
            "Epoch 19/50\n",
            "3360/3360 [==============================] - 5s 2ms/step - loss: 0.0090 - accuracy: 0.9973 - val_loss: 5.8971e-04 - val_accuracy: 1.0000\n",
            "Epoch 20/50\n",
            "3360/3360 [==============================] - 5s 2ms/step - loss: 0.0191 - accuracy: 0.9943 - val_loss: 0.0024 - val_accuracy: 0.9988\n",
            "Epoch 21/50\n",
            "3360/3360 [==============================] - 5s 2ms/step - loss: 0.0058 - accuracy: 0.9982 - val_loss: 0.2864 - val_accuracy: 0.9857\n",
            "Epoch 22/50\n",
            "3360/3360 [==============================] - 5s 2ms/step - loss: 0.0784 - accuracy: 0.9881 - val_loss: 0.0092 - val_accuracy: 0.9976\n",
            "Epoch 23/50\n",
            "3360/3360 [==============================] - 5s 2ms/step - loss: 0.0214 - accuracy: 0.9961 - val_loss: 1.1144e-04 - val_accuracy: 1.0000\n",
            "Epoch 24/50\n",
            "3360/3360 [==============================] - 5s 2ms/step - loss: 0.0060 - accuracy: 0.9976 - val_loss: 0.0176 - val_accuracy: 0.9940\n",
            "Epoch 25/50\n",
            "3360/3360 [==============================] - 5s 2ms/step - loss: 0.0064 - accuracy: 0.9982 - val_loss: 0.0023 - val_accuracy: 1.0000\n",
            "Epoch 26/50\n",
            "3360/3360 [==============================] - 5s 2ms/step - loss: 0.0355 - accuracy: 0.9929 - val_loss: 0.0386 - val_accuracy: 0.9905\n",
            "Epoch 27/50\n",
            "3360/3360 [==============================] - 5s 2ms/step - loss: 0.1222 - accuracy: 0.9774 - val_loss: 0.0321 - val_accuracy: 0.9917\n",
            "Epoch 28/50\n",
            "3360/3360 [==============================] - 5s 2ms/step - loss: 0.0307 - accuracy: 0.9923 - val_loss: 0.0027 - val_accuracy: 0.9976\n",
            "Epoch 29/50\n",
            "3360/3360 [==============================] - 5s 2ms/step - loss: 0.0173 - accuracy: 0.9961 - val_loss: 4.7815e-04 - val_accuracy: 1.0000\n",
            "Epoch 30/50\n",
            "3360/3360 [==============================] - 5s 2ms/step - loss: 0.0254 - accuracy: 0.9929 - val_loss: 0.0179 - val_accuracy: 0.9976\n",
            "Epoch 31/50\n",
            "3360/3360 [==============================] - 5s 2ms/step - loss: 0.0150 - accuracy: 0.9958 - val_loss: 0.0262 - val_accuracy: 0.9952\n",
            "Epoch 32/50\n",
            "3360/3360 [==============================] - 5s 2ms/step - loss: 0.0081 - accuracy: 0.9982 - val_loss: 0.0020 - val_accuracy: 0.9988\n",
            "Epoch 33/50\n",
            "3360/3360 [==============================] - 5s 2ms/step - loss: 3.6023e-04 - accuracy: 1.0000 - val_loss: 2.8057e-04 - val_accuracy: 1.0000\n",
            "Epoch 34/50\n",
            "3360/3360 [==============================] - 5s 2ms/step - loss: 0.0037 - accuracy: 0.9985 - val_loss: 0.0039 - val_accuracy: 0.9976\n",
            "Epoch 35/50\n",
            "3360/3360 [==============================] - 5s 2ms/step - loss: 0.0592 - accuracy: 0.9908 - val_loss: 0.0115 - val_accuracy: 0.9964\n",
            "Epoch 36/50\n",
            "3360/3360 [==============================] - 5s 2ms/step - loss: 0.0394 - accuracy: 0.9899 - val_loss: 0.0437 - val_accuracy: 0.9964\n",
            "Epoch 37/50\n",
            "3360/3360 [==============================] - 5s 2ms/step - loss: 0.0244 - accuracy: 0.9935 - val_loss: 0.0570 - val_accuracy: 0.9798\n",
            "Epoch 38/50\n",
            "3360/3360 [==============================] - 5s 2ms/step - loss: 0.0389 - accuracy: 0.9914 - val_loss: 0.0016 - val_accuracy: 1.0000\n",
            "Epoch 39/50\n",
            "3360/3360 [==============================] - 5s 2ms/step - loss: 0.0105 - accuracy: 0.9979 - val_loss: 2.3310e-04 - val_accuracy: 1.0000\n",
            "Epoch 40/50\n",
            "3360/3360 [==============================] - 5s 2ms/step - loss: 0.0168 - accuracy: 0.9985 - val_loss: 6.1263e-04 - val_accuracy: 1.0000\n",
            "Epoch 41/50\n",
            "3360/3360 [==============================] - 5s 2ms/step - loss: 0.0355 - accuracy: 0.9935 - val_loss: 0.0041 - val_accuracy: 0.9988\n",
            "Epoch 42/50\n",
            "3360/3360 [==============================] - 5s 2ms/step - loss: 0.0827 - accuracy: 0.9869 - val_loss: 4.1852e-05 - val_accuracy: 1.0000\n",
            "Epoch 43/50\n",
            "3360/3360 [==============================] - 5s 2ms/step - loss: 0.0050 - accuracy: 0.9991 - val_loss: 4.2210e-06 - val_accuracy: 1.0000\n",
            "Epoch 44/50\n",
            "3360/3360 [==============================] - 5s 2ms/step - loss: 0.0011 - accuracy: 0.9994 - val_loss: 9.2490e-05 - val_accuracy: 1.0000\n",
            "Epoch 45/50\n",
            "3360/3360 [==============================] - 5s 2ms/step - loss: 9.7709e-04 - accuracy: 0.9994 - val_loss: 1.4577e-06 - val_accuracy: 1.0000\n",
            "Epoch 46/50\n",
            "3360/3360 [==============================] - 5s 2ms/step - loss: 0.0031 - accuracy: 0.9994 - val_loss: 2.3359e-07 - val_accuracy: 1.0000\n",
            "Epoch 47/50\n",
            "3360/3360 [==============================] - 5s 2ms/step - loss: 0.0022 - accuracy: 0.9997 - val_loss: 2.1163e-05 - val_accuracy: 1.0000\n",
            "Epoch 48/50\n",
            "3360/3360 [==============================] - 5s 2ms/step - loss: 0.0049 - accuracy: 0.9988 - val_loss: 5.5256e-06 - val_accuracy: 1.0000\n",
            "Epoch 49/50\n",
            "3360/3360 [==============================] - 5s 2ms/step - loss: 7.6556e-05 - accuracy: 1.0000 - val_loss: 1.1020e-06 - val_accuracy: 1.0000\n",
            "Epoch 50/50\n",
            "3360/3360 [==============================] - 5s 2ms/step - loss: 3.7918e-05 - accuracy: 1.0000 - val_loss: 6.0720e-07 - val_accuracy: 1.0000\n"
          ],
          "name": "stdout"
        }
      ]
    },
    {
      "cell_type": "code",
      "metadata": {
        "id": "mdFmvINernc9",
        "colab_type": "code",
        "colab": {
          "base_uri": "https://localhost:8080/",
          "height": 591
        },
        "outputId": "0c4f194b-1cdc-4a6d-dc42-1f248bb66eef"
      },
      "source": [
        "print(history.history.keys())\n",
        "# summarize history for accuracy\n",
        "plt.plot(history.history['accuracy'])\n",
        "plt.plot(history.history['val_accuracy'])\n",
        "plt.title('model accuracy')\n",
        "plt.ylabel('accuracy')\n",
        "plt.xlabel('epoch')\n",
        "plt.legend(['train', 'test'], loc='upper left')\n",
        "plt.show()\n",
        "# summarize history for loss\n",
        "plt.plot(history.history['loss'])\n",
        "plt.plot(history.history['val_loss'])\n",
        "plt.title('model loss')\n",
        "plt.ylabel('loss')\n",
        "plt.xlabel('epoch')\n",
        "plt.legend(['train', 'test'], loc='upper left')\n",
        "plt.show()"
      ],
      "execution_count": 19,
      "outputs": [
        {
          "output_type": "stream",
          "text": [
            "dict_keys(['val_loss', 'val_accuracy', 'loss', 'accuracy'])\n"
          ],
          "name": "stdout"
        },
        {
          "output_type": "display_data",
          "data": {
            "image/png": "[encoded data removed]",
            "text/plain": [
              "<Figure size 432x288 with 1 Axes>"
            ]
          },
          "metadata": {
            "tags": [],
            "needs_background": "light"
          }
        },
        {
          "output_type": "display_data",
          "data": {
            "image/png": "[encoded data removed]",
            "text/plain": [
              "<Figure size 432x288 with 1 Axes>"
            ]
          },
          "metadata": {
            "tags": [],
            "needs_background": "light"
          }
        }
      ]
    },
    {
      "cell_type": "code",
      "metadata": {
        "id": "Rdrdegeyr7UH",
        "colab_type": "code",
        "colab": {
          "base_uri": "https://localhost:8080/",
          "height": 90
        },
        "outputId": "63acc4e8-4bd5-456e-e02f-769c52e9208d"
      },
      "source": [
        "result = model.evaluate(x_train, y_train)\n",
        "print('train loss, train acc:', result)\n",
        "result2 = model.evaluate(x_test, y_test)\n",
        "print('test loss, test acc:', result2)"
      ],
      "execution_count": 20,
      "outputs": [
        {
          "output_type": "stream",
          "text": [
            "3360/3360 [==============================] - 2s 510us/step\n",
            "train loss, train acc: [1.1349567403736874e-06, 1.0]\n",
            "840/840 [==============================] - 0s 494us/step\n",
            "test loss, test acc: [6.071968854149374e-07, 1.0]\n"
          ],
          "name": "stdout"
        }
      ]
    },
    {
      "cell_type": "code",
      "metadata": {
        "id": "uw5_KBSsMBw4",
        "colab_type": "code",
        "colab": {
          "base_uri": "https://localhost:8080/",
          "height": 55
        },
        "outputId": "078e2fdf-987b-441e-a3fc-04b8e1d35572"
      },
      "source": [
        "print(history.history.values())"
      ],
      "execution_count": 21,
      "outputs": [
        {
          "output_type": "stream",
          "text": [
            "dict_values([[0.37736988578523906, 0.08247655766705672, 0.03759345404715055, 0.05084069752622218, 0.013415476713063462, 0.008458629411593609, 0.01754755588425767, 0.052543496238511234, 0.004017605224535579, 0.023079115099140575, 0.16786022974594658, 0.015983235351173096, 0.08313210337267568, 0.004861659111328381, 1.3635645342768315e-05, 0.014953064807295526, 0.02018187115669813, 0.006367680953311113, 0.0005897122293607112, 0.0023804339188722053, 0.28639124553384526, 0.009164205167949798, 0.00011144093830136539, 0.01764077916297884, 0.0023174089852199403, 0.03863574690798747, 0.03210581643851626, 0.0026770092705971494, 0.0004781478230056347, 0.0178502379475, 0.02615001742530337, 0.0020146463651193307, 0.00028056773004761585, 0.0039163828693730895, 0.011503928090725627, 0.043656379754074374, 0.05695368114592427, 0.0015670007498383277, 0.00023309615033318277, 0.0006126315736908271, 0.00407437232491274, 4.185151121051588e-05, 4.2210171408268725e-06, 9.248950816152486e-05, 1.4577399593207475e-06, 2.335866978445519e-07, 2.1162821169271173e-05, 5.525606533472528e-06, 1.1020270268314816e-06, 6.071968854149374e-07], [0.8619047403335571, 0.9773809313774109, 0.9869047403335571, 0.9797618985176086, 0.9976190328598022, 0.9988095164299011, 0.9952380657196045, 0.9869047403335571, 0.9988095164299011, 0.9952380657196045, 0.9642857313156128, 0.9952380657196045, 0.9773809313774109, 0.9976190328598022, 1.0, 0.9928571581840515, 0.9952380657196045, 0.9976190328598022, 1.0, 0.9988095164299011, 0.9857142567634583, 0.9976190328598022, 1.0, 0.9940476417541504, 1.0, 0.9904761910438538, 0.9916666746139526, 0.9976190328598022, 1.0, 0.9976190328598022, 0.9952380657196045, 0.9988095164299011, 1.0, 0.9976190328598022, 0.9964285492897034, 0.9964285492897034, 0.9797618985176086, 1.0, 1.0, 1.0, 0.9988095164299011, 1.0, 1.0, 1.0, 1.0, 1.0, 1.0, 1.0, 1.0, 1.0], [1.5543046227523258, 0.2368514968791888, 0.06547928214172966, 0.08258875556764127, 0.04030310909154304, 0.033392746556360396, 0.05329131081787507, 0.054205332483875934, 0.044438227600446786, 0.035393063918187785, 0.08064097346349237, 0.05766964799175704, 0.0273399312017307, 0.0188202534840067, 0.0007606213057228623, 0.0004962852557645281, 0.027326567341155423, 0.056949742014833084, 0.008959272400950015, 0.019093638562879364, 0.005812186185335934, 0.07839086621686185, 0.021444932598483103, 0.006041978746989008, 0.006408392707809813, 0.035480389779279704, 0.12219866963023081, 0.03073066047370476, 0.017283361928920195, 0.025440403504196327, 0.015003632553830292, 0.008111592772037228, 0.0003602303702337151, 0.0036703575272038604, 0.05921345489326236, 0.039384856355906904, 0.024429057982542277, 0.03892251395028978, 0.010539466349678301, 0.016822784938213882, 0.03547404240932755, 0.08272079182042223, 0.005022166796506139, 0.0010773573949475234, 0.0009770880190146962, 0.0030682604671540895, 0.0022160120518091063, 0.00485259628148661, 7.655626816577012e-05, 3.791772588004867e-05], [0.43928573, 0.9238095, 0.9800595, 0.97351193, 0.98541665, 0.9901786, 0.98571426, 0.98482144, 0.9892857, 0.9922619, 0.9815476, 0.98303574, 0.99315476, 0.99494046, 0.9997024, 0.9997024, 0.99404764, 0.9863095, 0.9973214, 0.99434525, 0.9982143, 0.9880952, 0.99613094, 0.99761903, 0.9982143, 0.99285716, 0.97738093, 0.9922619, 0.99613094, 0.99285716, 0.99583334, 0.9982143, 1.0, 0.9985119, 0.9907738, 0.989881, 0.99345237, 0.99136907, 0.99791664, 0.9985119, 0.99345237, 0.98690474, 0.9991071, 0.9994048, 0.9994048, 0.9994048, 0.9997024, 0.9988095, 1.0, 1.0]])\n"
          ],
          "name": "stdout"
        }
      ]
    },
    {
      "cell_type": "code",
      "metadata": {
        "id": "vpo9dRIRtUsY",
        "colab_type": "code",
        "colab": {
          "base_uri": "https://localhost:8080/",
          "height": 35
        },
        "outputId": "1af9baf2-3f8e-49cf-e3c8-34cd807d075b"
      },
      "source": [
        "# serialize model to YAML\n",
        "model_yaml = model.to_yaml()\n",
        "with open(\"AlexNet_model.yaml\", \"w\") as yaml_file:\n",
        "    yaml_file.write(model_yaml)\n",
        "# serialize weights to HDF5\n",
        "model.save_weights(\"AlexNet_model.h5\")\n",
        "print(\"Saved model to disk\")"
      ],
      "execution_count": 22,
      "outputs": [
        {
          "output_type": "stream",
          "text": [
            "Saved model to disk\n"
          ],
          "name": "stdout"
        }
      ]
    },
    {
      "cell_type": "markdown",
      "metadata": {
        "id": "yL7kC0y2tCSy",
        "colab_type": "text"
      },
      "source": [
        "Prediction:"
      ]
    },
    {
      "cell_type": "code",
      "metadata": {
        "id": "js3967KzsEvV",
        "colab_type": "code",
        "colab": {
          "base_uri": "https://localhost:8080/",
          "height": 931
        },
        "outputId": "786955d5-44b1-4a12-c8b6-189e3d713cd5"
      },
      "source": [
        "use_samples = [1, 2, 3, 4]\n",
        "samples_to_predict = []\n",
        "# Generate plots for samples\n",
        "for sample in use_samples:\n",
        "  # Generate a plot\n",
        "  reshaped_image = x_train[sample]\n",
        "  samples_to_predict.append(reshaped_image)\n",
        "  cv2_imshow(reshaped_image)\n",
        "samples_to_predict = np.asarray(samples_to_predict)\n",
        "predictions = model.predict(samples_to_predict)\n",
        "classes = np.argmax(predictions, axis = 1)\n",
        "pred_labels = classes\n",
        "print(classes)"
      ],
      "execution_count": null,
      "outputs": [
        {
          "output_type": "display_data",
          "data": {
            "image/png": "[encoded data removed]",
            "text/plain": [
              "<PIL.Image.Image image mode=RGB size=224x224 at 0x7FBC43A77CC0>"
            ]
          },
          "metadata": {
            "tags": []
          }
        },
        {
          "output_type": "display_data",
          "data": {
            "image/png": "[encoded data removed]",
            "text/plain": [
              "<PIL.Image.Image image mode=RGB size=224x224 at 0x7FBC43A77C88>"
            ]
          },
          "metadata": {
            "tags": []
          }
        },
        {
          "output_type": "display_data",
          "data": {
            "image/png": "[encoded data removed]",
            "text/plain": [
              "<PIL.Image.Image image mode=RGB size=224x224 at 0x7FBC43A77CC0>"
            ]
          },
          "metadata": {
            "tags": []
          }
        },
        {
          "output_type": "display_data",
          "data": {
            "image/png": "[encoded data removed]",
            "text/plain": [
              "<PIL.Image.Image image mode=RGB size=224x224 at 0x7FBC43A77C88>"
            ]
          },
          "metadata": {
            "tags": []
          }
        },
        {
          "output_type": "stream",
          "text": [
            "[1 0 2 2]\n"
          ],
          "name": "stdout"
        }
      ]
    },
    {
      "cell_type": "code",
      "metadata": {
        "id": "ldhNExTstOf4",
        "colab_type": "code",
        "colab": {
          "base_uri": "https://localhost:8080/",
          "height": 90
        },
        "outputId": "30c72a03-e1a6-4926-81c3-cdd225a8f9cc"
      },
      "source": [
        "for i in use_samples:\n",
        "    count=0\n",
        "    for j in y_train[i]:\n",
        "      if j==1:\n",
        "        print(count)\n",
        "        break\n",
        "      else:\n",
        "        count+=1"
      ],
      "execution_count": null,
      "outputs": [
        {
          "output_type": "stream",
          "text": [
            "1\n",
            "0\n",
            "2\n",
            "2\n"
          ],
          "name": "stdout"
        }
      ]
    }
  ]
}